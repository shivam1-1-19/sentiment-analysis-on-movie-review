{
 "cells": [
  {
   "cell_type": "code",
   "execution_count": 1,
   "id": "1b2cd3d0",
   "metadata": {
    "_cell_guid": "b1076dfc-b9ad-4769-8c92-a6c4dae69d19",
    "_uuid": "8f2839f25d086af736a60e9eeb907d3b93b6e0e5",
    "execution": {
     "iopub.execute_input": "2023-08-08T20:23:31.048429Z",
     "iopub.status.busy": "2023-08-08T20:23:31.047987Z",
     "iopub.status.idle": "2023-08-08T20:23:31.065630Z",
     "shell.execute_reply": "2023-08-08T20:23:31.064160Z"
    },
    "papermill": {
     "duration": 0.04914,
     "end_time": "2023-08-08T20:23:31.069669",
     "exception": false,
     "start_time": "2023-08-08T20:23:31.020529",
     "status": "completed"
    },
    "tags": []
   },
   "outputs": [
    {
     "name": "stdout",
     "output_type": "stream",
     "text": [
      "/kaggle/input/sentiment-prediction-on-movie-reviews/movies.csv\n",
      "/kaggle/input/sentiment-prediction-on-movie-reviews/sample.csv\n",
      "/kaggle/input/sentiment-prediction-on-movie-reviews/train.csv\n",
      "/kaggle/input/sentiment-prediction-on-movie-reviews/test.csv\n"
     ]
    }
   ],
   "source": [
    "# This Python 3 environment comes with many helpful analytics libraries installed\n",
    "# It is defined by the kaggle/python Docker image: https://github.com/kaggle/docker-python\n",
    "# For example, here's several helpful packages to load\n",
    "\n",
    "import numpy as np # linear algebra\n",
    "import pandas as pd # data processing, CSV file I/O (e.g. pd.read_csv)\n",
    "\n",
    "# Input data files are available in the read-only \"../input/\" directory\n",
    "# For example, running this (by clicking run or pressing Shift+Enter) will list all files under the input directory\n",
    "\n",
    "import os\n",
    "for dirname, _, filenames in os.walk('/kaggle/input'):\n",
    "    for filename in filenames:\n",
    "        print(os.path.join(dirname, filename))\n",
    "\n",
    "# You can write up to 20GB to the current directory (/kaggle/working/) that gets preserved as output when you create a version using \"Save & Run All\" \n",
    "# You can also write temporary files to /kaggle/temp/, but they won't be saved outside of the current session"
   ]
  },
  {
   "cell_type": "markdown",
   "id": "6e609603",
   "metadata": {
    "papermill": {
     "duration": 0.02472,
     "end_time": "2023-08-08T20:23:31.120142",
     "exception": false,
     "start_time": "2023-08-08T20:23:31.095422",
     "status": "completed"
    },
    "tags": []
   },
   "source": [
    "# **Problem Statement :**\n",
    "In this dataset each record represents a movie-review pair with movie title, description, genres, duration, director, actors, users' ratings, review text, reviewer name, etc. The task is to build an ML model to predict **sentiment** of the review text."
   ]
  },
  {
   "cell_type": "markdown",
   "id": "5bd94fd3",
   "metadata": {
    "papermill": {
     "duration": 0.027587,
     "end_time": "2023-08-08T20:23:31.173169",
     "exception": false,
     "start_time": "2023-08-08T20:23:31.145582",
     "status": "completed"
    },
    "tags": []
   },
   "source": [
    "# **Machine Learning :**\n",
    "**Machine learning** is a subset of artificial intelligence that involves the development of algorithms and models that allow computers to learn from data and improve their performance on a specific task over time."
   ]
  },
  {
   "cell_type": "markdown",
   "id": "0352ae5b",
   "metadata": {
    "papermill": {
     "duration": 0.026242,
     "end_time": "2023-08-08T20:23:31.227153",
     "exception": false,
     "start_time": "2023-08-08T20:23:31.200911",
     "status": "completed"
    },
    "tags": []
   },
   "source": [
    "# **DATASET LOADING and PRE-PROCESSING**"
   ]
  },
  {
   "cell_type": "markdown",
   "id": "e2e678b9",
   "metadata": {
    "papermill": {
     "duration": 0.025217,
     "end_time": "2023-08-08T20:23:31.277195",
     "exception": false,
     "start_time": "2023-08-08T20:23:31.251978",
     "status": "completed"
    },
    "tags": []
   },
   "source": [
    "# Dataset Loading"
   ]
  },
  {
   "cell_type": "code",
   "execution_count": 2,
   "id": "debbd40b",
   "metadata": {
    "execution": {
     "iopub.execute_input": "2023-08-08T20:23:31.331478Z",
     "iopub.status.busy": "2023-08-08T20:23:31.331034Z",
     "iopub.status.idle": "2023-08-08T20:23:34.347733Z",
     "shell.execute_reply": "2023-08-08T20:23:34.346351Z"
    },
    "papermill": {
     "duration": 3.046823,
     "end_time": "2023-08-08T20:23:34.350887",
     "exception": false,
     "start_time": "2023-08-08T20:23:31.304064",
     "status": "completed"
    },
    "tags": []
   },
   "outputs": [
    {
     "data": {
      "text/html": [
       "<div>\n",
       "<style scoped>\n",
       "    .dataframe tbody tr th:only-of-type {\n",
       "        vertical-align: middle;\n",
       "    }\n",
       "\n",
       "    .dataframe tbody tr th {\n",
       "        vertical-align: top;\n",
       "    }\n",
       "\n",
       "    .dataframe thead th {\n",
       "        text-align: right;\n",
       "    }\n",
       "</style>\n",
       "<table border=\"1\" class=\"dataframe\">\n",
       "  <thead>\n",
       "    <tr style=\"text-align: right;\">\n",
       "      <th></th>\n",
       "      <th>movieid</th>\n",
       "      <th>reviewerName</th>\n",
       "      <th>isFrequentReviewer</th>\n",
       "      <th>reviewText</th>\n",
       "      <th>sentiment</th>\n",
       "    </tr>\n",
       "  </thead>\n",
       "  <tbody>\n",
       "    <tr>\n",
       "      <th>0</th>\n",
       "      <td>marvelous_pirate</td>\n",
       "      <td>Benjamin Henry</td>\n",
       "      <td>False</td>\n",
       "      <td>Henry Selick’s first movie since 2009’s Corali...</td>\n",
       "      <td>POSITIVE</td>\n",
       "    </tr>\n",
       "    <tr>\n",
       "      <th>1</th>\n",
       "      <td>tony_montana_frodo_baggins_v_rocky_balboa</td>\n",
       "      <td>Felicia Lopez</td>\n",
       "      <td>False</td>\n",
       "      <td>With a cast that reads like the Vogue Oscar pa...</td>\n",
       "      <td>NEGATIVE</td>\n",
       "    </tr>\n",
       "    <tr>\n",
       "      <th>2</th>\n",
       "      <td>darth_vader_katniss_everdeen_sorcerer_donnie_d...</td>\n",
       "      <td>Mr. Charles Burgess</td>\n",
       "      <td>True</td>\n",
       "      <td>Creed II does not give us anything but another...</td>\n",
       "      <td>POSITIVE</td>\n",
       "    </tr>\n",
       "    <tr>\n",
       "      <th>3</th>\n",
       "      <td>lara_croft_glimmer</td>\n",
       "      <td>Ryan Barrett</td>\n",
       "      <td>False</td>\n",
       "      <td>I know what you're thinking, but this is no Li...</td>\n",
       "      <td>POSITIVE</td>\n",
       "    </tr>\n",
       "    <tr>\n",
       "      <th>4</th>\n",
       "      <td>jason_bourne_surreal_the_terminator_indiana_jones</td>\n",
       "      <td>Alexander Glover</td>\n",
       "      <td>False</td>\n",
       "      <td>Director Fernando Meirelles tells the story wi...</td>\n",
       "      <td>POSITIVE</td>\n",
       "    </tr>\n",
       "    <tr>\n",
       "      <th>...</th>\n",
       "      <td>...</td>\n",
       "      <td>...</td>\n",
       "      <td>...</td>\n",
       "      <td>...</td>\n",
       "      <td>...</td>\n",
       "    </tr>\n",
       "    <tr>\n",
       "      <th>162753</th>\n",
       "      <td>the_joker_ethereal_captain_jack_sparrow_fantastic</td>\n",
       "      <td>Danny Mueller</td>\n",
       "      <td>False</td>\n",
       "      <td>A top-notch thriller with genuine surprises an...</td>\n",
       "      <td>POSITIVE</td>\n",
       "    </tr>\n",
       "    <tr>\n",
       "      <th>162754</th>\n",
       "      <td>e.t._hannibal_lecter_vito_corleone_katniss_eve...</td>\n",
       "      <td>Jennifer Clayton</td>\n",
       "      <td>True</td>\n",
       "      <td>Some people find Derek Zoolander funny and lik...</td>\n",
       "      <td>NEGATIVE</td>\n",
       "    </tr>\n",
       "    <tr>\n",
       "      <th>162755</th>\n",
       "      <td>infinite_enigma_luke_skywalker</td>\n",
       "      <td>Bryan Wilson</td>\n",
       "      <td>False</td>\n",
       "      <td>This fun, gentle comedy focuses mainly on them...</td>\n",
       "      <td>POSITIVE</td>\n",
       "    </tr>\n",
       "    <tr>\n",
       "      <th>162756</th>\n",
       "      <td>emerald_oracle_iron_man_wolverine</td>\n",
       "      <td>Erik Parker</td>\n",
       "      <td>False</td>\n",
       "      <td>The film is rescued by a strong third act, but...</td>\n",
       "      <td>NEGATIVE</td>\n",
       "    </tr>\n",
       "    <tr>\n",
       "      <th>162757</th>\n",
       "      <td>james_t._kirk_phenomenal_zephyr_chronicles</td>\n",
       "      <td>Howard Evans</td>\n",
       "      <td>False</td>\n",
       "      <td>A peerless exercise in stimulus response.</td>\n",
       "      <td>POSITIVE</td>\n",
       "    </tr>\n",
       "  </tbody>\n",
       "</table>\n",
       "<p>162758 rows × 5 columns</p>\n",
       "</div>"
      ],
      "text/plain": [
       "                                                  movieid  \\\n",
       "0                                        marvelous_pirate   \n",
       "1               tony_montana_frodo_baggins_v_rocky_balboa   \n",
       "2       darth_vader_katniss_everdeen_sorcerer_donnie_d...   \n",
       "3                                      lara_croft_glimmer   \n",
       "4       jason_bourne_surreal_the_terminator_indiana_jones   \n",
       "...                                                   ...   \n",
       "162753  the_joker_ethereal_captain_jack_sparrow_fantastic   \n",
       "162754  e.t._hannibal_lecter_vito_corleone_katniss_eve...   \n",
       "162755                     infinite_enigma_luke_skywalker   \n",
       "162756                  emerald_oracle_iron_man_wolverine   \n",
       "162757         james_t._kirk_phenomenal_zephyr_chronicles   \n",
       "\n",
       "               reviewerName  isFrequentReviewer  \\\n",
       "0            Benjamin Henry               False   \n",
       "1             Felicia Lopez               False   \n",
       "2       Mr. Charles Burgess                True   \n",
       "3              Ryan Barrett               False   \n",
       "4          Alexander Glover               False   \n",
       "...                     ...                 ...   \n",
       "162753        Danny Mueller               False   \n",
       "162754     Jennifer Clayton                True   \n",
       "162755         Bryan Wilson               False   \n",
       "162756          Erik Parker               False   \n",
       "162757         Howard Evans               False   \n",
       "\n",
       "                                               reviewText sentiment  \n",
       "0       Henry Selick’s first movie since 2009’s Corali...  POSITIVE  \n",
       "1       With a cast that reads like the Vogue Oscar pa...  NEGATIVE  \n",
       "2       Creed II does not give us anything but another...  POSITIVE  \n",
       "3       I know what you're thinking, but this is no Li...  POSITIVE  \n",
       "4       Director Fernando Meirelles tells the story wi...  POSITIVE  \n",
       "...                                                   ...       ...  \n",
       "162753  A top-notch thriller with genuine surprises an...  POSITIVE  \n",
       "162754  Some people find Derek Zoolander funny and lik...  NEGATIVE  \n",
       "162755  This fun, gentle comedy focuses mainly on them...  POSITIVE  \n",
       "162756  The film is rescued by a strong third act, but...  NEGATIVE  \n",
       "162757          A peerless exercise in stimulus response.  POSITIVE  \n",
       "\n",
       "[162758 rows x 5 columns]"
      ]
     },
     "execution_count": 2,
     "metadata": {},
     "output_type": "execute_result"
    }
   ],
   "source": [
    "#Import all the required modules and libraries \n",
    "import pandas as pd\n",
    "import numpy as np\n",
    "import seaborn as sns\n",
    "import matplotlib.pyplot as plt\n",
    "import warnings\n",
    "warnings.filterwarnings('ignore')\n",
    "\n",
    "\n",
    "#loading train data\n",
    "train_data=pd.read_csv(\"/kaggle/input/sentiment-prediction-on-movie-reviews/train.csv\")\n",
    "train_data"
   ]
  },
  {
   "cell_type": "code",
   "execution_count": 3,
   "id": "2ffac5c8",
   "metadata": {
    "execution": {
     "iopub.execute_input": "2023-08-08T20:23:34.405046Z",
     "iopub.status.busy": "2023-08-08T20:23:34.404645Z",
     "iopub.status.idle": "2023-08-08T20:23:34.412145Z",
     "shell.execute_reply": "2023-08-08T20:23:34.410903Z"
    },
    "papermill": {
     "duration": 0.038407,
     "end_time": "2023-08-08T20:23:34.414622",
     "exception": false,
     "start_time": "2023-08-08T20:23:34.376215",
     "status": "completed"
    },
    "tags": []
   },
   "outputs": [
    {
     "data": {
      "text/plain": [
       "(162758, 5)"
      ]
     },
     "execution_count": 3,
     "metadata": {},
     "output_type": "execute_result"
    }
   ],
   "source": [
    "#Shape of dataframe\n",
    "train_data.shape"
   ]
  },
  {
   "cell_type": "markdown",
   "id": "4970084a",
   "metadata": {
    "papermill": {
     "duration": 0.0257,
     "end_time": "2023-08-08T20:23:34.465612",
     "exception": false,
     "start_time": "2023-08-08T20:23:34.439912",
     "status": "completed"
    },
    "tags": []
   },
   "source": [
    "**Movie Dataset as metadata**"
   ]
  },
  {
   "cell_type": "code",
   "execution_count": 4,
   "id": "0a0d1b2e",
   "metadata": {
    "execution": {
     "iopub.execute_input": "2023-08-08T20:23:34.520201Z",
     "iopub.status.busy": "2023-08-08T20:23:34.519526Z",
     "iopub.status.idle": "2023-08-08T20:23:35.555790Z",
     "shell.execute_reply": "2023-08-08T20:23:35.554684Z"
    },
    "papermill": {
     "duration": 1.067423,
     "end_time": "2023-08-08T20:23:35.558334",
     "exception": false,
     "start_time": "2023-08-08T20:23:34.490911",
     "status": "completed"
    },
    "tags": []
   },
   "outputs": [
    {
     "data": {
      "text/html": [
       "<div>\n",
       "<style scoped>\n",
       "    .dataframe tbody tr th:only-of-type {\n",
       "        vertical-align: middle;\n",
       "    }\n",
       "\n",
       "    .dataframe tbody tr th {\n",
       "        vertical-align: top;\n",
       "    }\n",
       "\n",
       "    .dataframe thead th {\n",
       "        text-align: right;\n",
       "    }\n",
       "</style>\n",
       "<table border=\"1\" class=\"dataframe\">\n",
       "  <thead>\n",
       "    <tr style=\"text-align: right;\">\n",
       "      <th></th>\n",
       "      <th>movieid</th>\n",
       "      <th>title</th>\n",
       "      <th>audienceScore</th>\n",
       "      <th>rating</th>\n",
       "      <th>ratingContents</th>\n",
       "      <th>releaseDateTheaters</th>\n",
       "      <th>releaseDateStreaming</th>\n",
       "      <th>runtimeMinutes</th>\n",
       "      <th>genre</th>\n",
       "      <th>originalLanguage</th>\n",
       "      <th>director</th>\n",
       "      <th>boxOffice</th>\n",
       "      <th>distributor</th>\n",
       "      <th>soundType</th>\n",
       "    </tr>\n",
       "  </thead>\n",
       "  <tbody>\n",
       "    <tr>\n",
       "      <th>0</th>\n",
       "      <td>han_solo_heroic_myth_wonder_woman</td>\n",
       "      <td>Han Solo Heroic Myth Wonder Woman</td>\n",
       "      <td>50.0</td>\n",
       "      <td>NaN</td>\n",
       "      <td>NaN</td>\n",
       "      <td>NaN</td>\n",
       "      <td>2018-08-25</td>\n",
       "      <td>75.0</td>\n",
       "      <td>Comedy, Horror, Sci-fi</td>\n",
       "      <td>English</td>\n",
       "      <td>Claude Nicolet</td>\n",
       "      <td>NaN</td>\n",
       "      <td>NaN</td>\n",
       "      <td>NaN</td>\n",
       "    </tr>\n",
       "    <tr>\n",
       "      <th>1</th>\n",
       "      <td>voyage_tyler_durden_han_solo_stardust</td>\n",
       "      <td>Voyage Tyler Durden Han Solo Stardust</td>\n",
       "      <td>NaN</td>\n",
       "      <td>NaN</td>\n",
       "      <td>NaN</td>\n",
       "      <td>NaN</td>\n",
       "      <td>2020-02-11</td>\n",
       "      <td>114.0</td>\n",
       "      <td>Drama</td>\n",
       "      <td>English</td>\n",
       "      <td>Nathan Haack</td>\n",
       "      <td>NaN</td>\n",
       "      <td>NaN</td>\n",
       "      <td>NaN</td>\n",
       "    </tr>\n",
       "    <tr>\n",
       "      <th>2</th>\n",
       "      <td>norman_bates_ferris_bueller_hermione_granger_v...</td>\n",
       "      <td>Norman Bates Ferris Bueller Hermione Granger V...</td>\n",
       "      <td>43.0</td>\n",
       "      <td>NaN</td>\n",
       "      <td>NaN</td>\n",
       "      <td>NaN</td>\n",
       "      <td>NaN</td>\n",
       "      <td>120.0</td>\n",
       "      <td>Drama</td>\n",
       "      <td>Korean</td>\n",
       "      <td>Theresa Smith</td>\n",
       "      <td>NaN</td>\n",
       "      <td>NaN</td>\n",
       "      <td>NaN</td>\n",
       "    </tr>\n",
       "    <tr>\n",
       "      <th>3</th>\n",
       "      <td>elegant_hermione_granger</td>\n",
       "      <td>Elegant Hermione Granger</td>\n",
       "      <td>60.0</td>\n",
       "      <td>NaN</td>\n",
       "      <td>NaN</td>\n",
       "      <td>NaN</td>\n",
       "      <td>2020-10-23</td>\n",
       "      <td>90.0</td>\n",
       "      <td>Action, Mystery &amp; thriller</td>\n",
       "      <td>English</td>\n",
       "      <td>Donald Lewis</td>\n",
       "      <td>NaN</td>\n",
       "      <td>NaN</td>\n",
       "      <td>NaN</td>\n",
       "    </tr>\n",
       "    <tr>\n",
       "      <th>4</th>\n",
       "      <td>adventure_rocky_balboa</td>\n",
       "      <td>Adventure Rocky Balboa</td>\n",
       "      <td>70.0</td>\n",
       "      <td>NaN</td>\n",
       "      <td>NaN</td>\n",
       "      <td>NaN</td>\n",
       "      <td>2017-03-27</td>\n",
       "      <td>80.0</td>\n",
       "      <td>Fantasy, Adventure, Animation</td>\n",
       "      <td>English</td>\n",
       "      <td>Howard Simms</td>\n",
       "      <td>NaN</td>\n",
       "      <td>NaN</td>\n",
       "      <td>NaN</td>\n",
       "    </tr>\n",
       "  </tbody>\n",
       "</table>\n",
       "</div>"
      ],
      "text/plain": [
       "                                             movieid  \\\n",
       "0                  han_solo_heroic_myth_wonder_woman   \n",
       "1              voyage_tyler_durden_han_solo_stardust   \n",
       "2  norman_bates_ferris_bueller_hermione_granger_v...   \n",
       "3                           elegant_hermione_granger   \n",
       "4                             adventure_rocky_balboa   \n",
       "\n",
       "                                               title  audienceScore rating  \\\n",
       "0                  Han Solo Heroic Myth Wonder Woman           50.0    NaN   \n",
       "1              Voyage Tyler Durden Han Solo Stardust            NaN    NaN   \n",
       "2  Norman Bates Ferris Bueller Hermione Granger V...           43.0    NaN   \n",
       "3                           Elegant Hermione Granger           60.0    NaN   \n",
       "4                             Adventure Rocky Balboa           70.0    NaN   \n",
       "\n",
       "  ratingContents releaseDateTheaters releaseDateStreaming  runtimeMinutes  \\\n",
       "0            NaN                 NaN           2018-08-25            75.0   \n",
       "1            NaN                 NaN           2020-02-11           114.0   \n",
       "2            NaN                 NaN                  NaN           120.0   \n",
       "3            NaN                 NaN           2020-10-23            90.0   \n",
       "4            NaN                 NaN           2017-03-27            80.0   \n",
       "\n",
       "                           genre originalLanguage        director boxOffice  \\\n",
       "0         Comedy, Horror, Sci-fi          English  Claude Nicolet       NaN   \n",
       "1                          Drama          English    Nathan Haack       NaN   \n",
       "2                          Drama           Korean   Theresa Smith       NaN   \n",
       "3     Action, Mystery & thriller          English    Donald Lewis       NaN   \n",
       "4  Fantasy, Adventure, Animation          English    Howard Simms       NaN   \n",
       "\n",
       "  distributor soundType  \n",
       "0         NaN       NaN  \n",
       "1         NaN       NaN  \n",
       "2         NaN       NaN  \n",
       "3         NaN       NaN  \n",
       "4         NaN       NaN  "
      ]
     },
     "execution_count": 4,
     "metadata": {},
     "output_type": "execute_result"
    }
   ],
   "source": [
    "#loading movie dataset given as metadata for the movies\n",
    "movie_data=pd.read_csv('/kaggle/input/sentiment-prediction-on-movie-reviews/movies.csv')\n",
    "movie_data.head()"
   ]
  },
  {
   "cell_type": "code",
   "execution_count": 5,
   "id": "0e580498",
   "metadata": {
    "execution": {
     "iopub.execute_input": "2023-08-08T20:23:35.615882Z",
     "iopub.status.busy": "2023-08-08T20:23:35.615246Z",
     "iopub.status.idle": "2023-08-08T20:23:35.622492Z",
     "shell.execute_reply": "2023-08-08T20:23:35.621171Z"
    },
    "papermill": {
     "duration": 0.041159,
     "end_time": "2023-08-08T20:23:35.625707",
     "exception": false,
     "start_time": "2023-08-08T20:23:35.584548",
     "status": "completed"
    },
    "tags": []
   },
   "outputs": [
    {
     "data": {
      "text/plain": [
       "(143258, 14)"
      ]
     },
     "execution_count": 5,
     "metadata": {},
     "output_type": "execute_result"
    }
   ],
   "source": [
    "movie_data.shape"
   ]
  },
  {
   "cell_type": "code",
   "execution_count": 6,
   "id": "cf15ce97",
   "metadata": {
    "execution": {
     "iopub.execute_input": "2023-08-08T20:23:35.680552Z",
     "iopub.status.busy": "2023-08-08T20:23:35.680096Z",
     "iopub.status.idle": "2023-08-08T20:23:35.686576Z",
     "shell.execute_reply": "2023-08-08T20:23:35.685365Z"
    },
    "papermill": {
     "duration": 0.038221,
     "end_time": "2023-08-08T20:23:35.690613",
     "exception": false,
     "start_time": "2023-08-08T20:23:35.652392",
     "status": "completed"
    },
    "tags": []
   },
   "outputs": [
    {
     "name": "stdout",
     "output_type": "stream",
     "text": [
      "columns of train dataset: Index(['movieid', 'reviewerName', 'isFrequentReviewer', 'reviewText',\n",
      "       'sentiment'],\n",
      "      dtype='object')\n",
      "columns of movie dataset: Index(['movieid', 'title', 'audienceScore', 'rating', 'ratingContents',\n",
      "       'releaseDateTheaters', 'releaseDateStreaming', 'runtimeMinutes',\n",
      "       'genre', 'originalLanguage', 'director', 'boxOffice', 'distributor',\n",
      "       'soundType'],\n",
      "      dtype='object')\n"
     ]
    }
   ],
   "source": [
    "#study the columns present in both the dataset\n",
    "print(\"columns of train dataset:\",train_data.columns)\n",
    "print(\"columns of movie dataset:\",movie_data.columns)"
   ]
  },
  {
   "cell_type": "markdown",
   "id": "8bd89f78",
   "metadata": {
    "papermill": {
     "duration": 0.025801,
     "end_time": "2023-08-08T20:23:35.742728",
     "exception": false,
     "start_time": "2023-08-08T20:23:35.716927",
     "status": "completed"
    },
    "tags": []
   },
   "source": [
    "**Checking the data redundancy in movie dataset to avoid unnecessary rows on merging**"
   ]
  },
  {
   "cell_type": "code",
   "execution_count": 7,
   "id": "88a0b8f3",
   "metadata": {
    "execution": {
     "iopub.execute_input": "2023-08-08T20:23:35.798605Z",
     "iopub.status.busy": "2023-08-08T20:23:35.798219Z",
     "iopub.status.idle": "2023-08-08T20:23:35.853536Z",
     "shell.execute_reply": "2023-08-08T20:23:35.852595Z"
    },
    "papermill": {
     "duration": 0.08546,
     "end_time": "2023-08-08T20:23:35.856015",
     "exception": false,
     "start_time": "2023-08-08T20:23:35.770555",
     "status": "completed"
    },
    "tags": []
   },
   "outputs": [
    {
     "name": "stdout",
     "output_type": "stream",
     "text": [
      "Number of duplicates: 16854\n"
     ]
    }
   ],
   "source": [
    "duplicates_mask = movie_data.duplicated(subset=['movieid'], keep='first')\n",
    "\n",
    "# Print the number of duplicate rows\n",
    "print(\"Number of duplicates:\", sum(duplicates_mask))"
   ]
  },
  {
   "cell_type": "markdown",
   "id": "b3eb4d12",
   "metadata": {
    "papermill": {
     "duration": 0.03086,
     "end_time": "2023-08-08T20:23:35.912834",
     "exception": false,
     "start_time": "2023-08-08T20:23:35.881974",
     "status": "completed"
    },
    "tags": []
   },
   "source": [
    ">We have **16854** redundant data . We can remove it by the drop_duplicates method."
   ]
  },
  {
   "cell_type": "code",
   "execution_count": 8,
   "id": "9d766753",
   "metadata": {
    "execution": {
     "iopub.execute_input": "2023-08-08T20:23:35.970446Z",
     "iopub.status.busy": "2023-08-08T20:23:35.969984Z",
     "iopub.status.idle": "2023-08-08T20:23:36.023863Z",
     "shell.execute_reply": "2023-08-08T20:23:36.022646Z"
    },
    "papermill": {
     "duration": 0.084806,
     "end_time": "2023-08-08T20:23:36.026700",
     "exception": false,
     "start_time": "2023-08-08T20:23:35.941894",
     "status": "completed"
    },
    "tags": []
   },
   "outputs": [],
   "source": [
    "# Drop rows with duplicate values in the 'movieid' column\n",
    "movie_data.drop_duplicates(subset=['movieid'], keep='first', inplace=True)\n",
    "\n",
    "# If you want to reset the index after dropping duplicates (optional)\n",
    "movie_data.reset_index(drop=True, inplace=True)"
   ]
  },
  {
   "cell_type": "code",
   "execution_count": 9,
   "id": "2754249c",
   "metadata": {
    "execution": {
     "iopub.execute_input": "2023-08-08T20:23:36.086333Z",
     "iopub.status.busy": "2023-08-08T20:23:36.084671Z",
     "iopub.status.idle": "2023-08-08T20:23:36.092638Z",
     "shell.execute_reply": "2023-08-08T20:23:36.090761Z"
    },
    "papermill": {
     "duration": 0.042477,
     "end_time": "2023-08-08T20:23:36.096013",
     "exception": false,
     "start_time": "2023-08-08T20:23:36.053536",
     "status": "completed"
    },
    "tags": []
   },
   "outputs": [
    {
     "name": "stdout",
     "output_type": "stream",
     "text": [
      "(126404, 14)\n"
     ]
    }
   ],
   "source": [
    "# Print the shape of DataFrame after dropping duplicates\n",
    "print(movie_data.shape)"
   ]
  },
  {
   "cell_type": "markdown",
   "id": "0ecfcf49",
   "metadata": {
    "papermill": {
     "duration": 0.031343,
     "end_time": "2023-08-08T20:23:36.156499",
     "exception": false,
     "start_time": "2023-08-08T20:23:36.125156",
     "status": "completed"
    },
    "tags": []
   },
   "source": [
    "* Since we have **'movieid'** in both the dataset. So, we can perform **left outer join** on movieid for merging the metadata to train data"
   ]
  },
  {
   "cell_type": "code",
   "execution_count": 10,
   "id": "b0584dc2",
   "metadata": {
    "execution": {
     "iopub.execute_input": "2023-08-08T20:23:36.219568Z",
     "iopub.status.busy": "2023-08-08T20:23:36.218134Z",
     "iopub.status.idle": "2023-08-08T20:23:36.566472Z",
     "shell.execute_reply": "2023-08-08T20:23:36.564907Z"
    },
    "papermill": {
     "duration": 0.383439,
     "end_time": "2023-08-08T20:23:36.569841",
     "exception": false,
     "start_time": "2023-08-08T20:23:36.186402",
     "status": "completed"
    },
    "tags": []
   },
   "outputs": [
    {
     "data": {
      "text/html": [
       "<div>\n",
       "<style scoped>\n",
       "    .dataframe tbody tr th:only-of-type {\n",
       "        vertical-align: middle;\n",
       "    }\n",
       "\n",
       "    .dataframe tbody tr th {\n",
       "        vertical-align: top;\n",
       "    }\n",
       "\n",
       "    .dataframe thead th {\n",
       "        text-align: right;\n",
       "    }\n",
       "</style>\n",
       "<table border=\"1\" class=\"dataframe\">\n",
       "  <thead>\n",
       "    <tr style=\"text-align: right;\">\n",
       "      <th></th>\n",
       "      <th>movieid</th>\n",
       "      <th>reviewerName</th>\n",
       "      <th>isFrequentReviewer</th>\n",
       "      <th>reviewText</th>\n",
       "      <th>sentiment</th>\n",
       "      <th>title</th>\n",
       "      <th>audienceScore</th>\n",
       "      <th>rating</th>\n",
       "      <th>ratingContents</th>\n",
       "      <th>releaseDateTheaters</th>\n",
       "      <th>releaseDateStreaming</th>\n",
       "      <th>runtimeMinutes</th>\n",
       "      <th>genre</th>\n",
       "      <th>originalLanguage</th>\n",
       "      <th>director</th>\n",
       "      <th>boxOffice</th>\n",
       "      <th>distributor</th>\n",
       "      <th>soundType</th>\n",
       "    </tr>\n",
       "  </thead>\n",
       "  <tbody>\n",
       "    <tr>\n",
       "      <th>0</th>\n",
       "      <td>marvelous_pirate</td>\n",
       "      <td>Benjamin Henry</td>\n",
       "      <td>False</td>\n",
       "      <td>Henry Selick’s first movie since 2009’s Corali...</td>\n",
       "      <td>POSITIVE</td>\n",
       "      <td>Marvelous Pirate</td>\n",
       "      <td>65.0</td>\n",
       "      <td>PG-13</td>\n",
       "      <td>['Violence', 'Brief Strong Language', 'Substan...</td>\n",
       "      <td>2022-10-21</td>\n",
       "      <td>2022-10-28</td>\n",
       "      <td>105.0</td>\n",
       "      <td>Comedy, Animation, Adventure, Fantasy</td>\n",
       "      <td>English</td>\n",
       "      <td>Bennie Basso</td>\n",
       "      <td>NaN</td>\n",
       "      <td>Netflix</td>\n",
       "      <td>NaN</td>\n",
       "    </tr>\n",
       "    <tr>\n",
       "      <th>1</th>\n",
       "      <td>tony_montana_frodo_baggins_v_rocky_balboa</td>\n",
       "      <td>Felicia Lopez</td>\n",
       "      <td>False</td>\n",
       "      <td>With a cast that reads like the Vogue Oscar pa...</td>\n",
       "      <td>NEGATIVE</td>\n",
       "      <td>Tony Montana Frodo Baggins V Rocky Balboa</td>\n",
       "      <td>NaN</td>\n",
       "      <td>NaN</td>\n",
       "      <td>NaN</td>\n",
       "      <td>NaN</td>\n",
       "      <td>2013-01-08</td>\n",
       "      <td>91.0</td>\n",
       "      <td>Action</td>\n",
       "      <td>English</td>\n",
       "      <td>Alma White</td>\n",
       "      <td>NaN</td>\n",
       "      <td>NaN</td>\n",
       "      <td>NaN</td>\n",
       "    </tr>\n",
       "    <tr>\n",
       "      <th>2</th>\n",
       "      <td>darth_vader_katniss_everdeen_sorcerer_donnie_d...</td>\n",
       "      <td>Mr. Charles Burgess</td>\n",
       "      <td>True</td>\n",
       "      <td>Creed II does not give us anything but another...</td>\n",
       "      <td>POSITIVE</td>\n",
       "      <td>Darth Vader Katniss Everdeen Sorcerer Donnie D...</td>\n",
       "      <td>80.0</td>\n",
       "      <td>PG-13</td>\n",
       "      <td>['Language', 'A Scene of Sensuality', 'Sports ...</td>\n",
       "      <td>2018-11-21</td>\n",
       "      <td>2019-02-12</td>\n",
       "      <td>130.0</td>\n",
       "      <td>Drama</td>\n",
       "      <td>English</td>\n",
       "      <td>Bobby Oleary</td>\n",
       "      <td>$115.7M</td>\n",
       "      <td>Warner Bros. Pictures, Metro-Goldwyn-Mayer</td>\n",
       "      <td>NaN</td>\n",
       "    </tr>\n",
       "    <tr>\n",
       "      <th>3</th>\n",
       "      <td>lara_croft_glimmer</td>\n",
       "      <td>Ryan Barrett</td>\n",
       "      <td>False</td>\n",
       "      <td>I know what you're thinking, but this is no Li...</td>\n",
       "      <td>POSITIVE</td>\n",
       "      <td>Lara Croft Glimmer</td>\n",
       "      <td>NaN</td>\n",
       "      <td>NaN</td>\n",
       "      <td>NaN</td>\n",
       "      <td>NaN</td>\n",
       "      <td>2020-06-02</td>\n",
       "      <td>15.0</td>\n",
       "      <td>Drama</td>\n",
       "      <td>Spanish</td>\n",
       "      <td>Eric Hutcherson</td>\n",
       "      <td>NaN</td>\n",
       "      <td>NaN</td>\n",
       "      <td>NaN</td>\n",
       "    </tr>\n",
       "    <tr>\n",
       "      <th>4</th>\n",
       "      <td>jason_bourne_surreal_the_terminator_indiana_jones</td>\n",
       "      <td>Alexander Glover</td>\n",
       "      <td>False</td>\n",
       "      <td>Director Fernando Meirelles tells the story wi...</td>\n",
       "      <td>POSITIVE</td>\n",
       "      <td>Jason Bourne Surreal The Terminator Indiana Jones</td>\n",
       "      <td>97.0</td>\n",
       "      <td>R</td>\n",
       "      <td>['Language', 'Drug Content', 'Sexuality', 'Str...</td>\n",
       "      <td>2003-01-17</td>\n",
       "      <td>2004-06-08</td>\n",
       "      <td>131.0</td>\n",
       "      <td>Crime, Drama</td>\n",
       "      <td>Portuguese (Brazil)</td>\n",
       "      <td>John Trent</td>\n",
       "      <td>$7.6M</td>\n",
       "      <td>Miramax Films</td>\n",
       "      <td>Surround, Dolby SR, Dolby Digital, Dolby A, Do...</td>\n",
       "    </tr>\n",
       "  </tbody>\n",
       "</table>\n",
       "</div>"
      ],
      "text/plain": [
       "                                             movieid         reviewerName  \\\n",
       "0                                   marvelous_pirate       Benjamin Henry   \n",
       "1          tony_montana_frodo_baggins_v_rocky_balboa        Felicia Lopez   \n",
       "2  darth_vader_katniss_everdeen_sorcerer_donnie_d...  Mr. Charles Burgess   \n",
       "3                                 lara_croft_glimmer         Ryan Barrett   \n",
       "4  jason_bourne_surreal_the_terminator_indiana_jones     Alexander Glover   \n",
       "\n",
       "   isFrequentReviewer                                         reviewText  \\\n",
       "0               False  Henry Selick’s first movie since 2009’s Corali...   \n",
       "1               False  With a cast that reads like the Vogue Oscar pa...   \n",
       "2                True  Creed II does not give us anything but another...   \n",
       "3               False  I know what you're thinking, but this is no Li...   \n",
       "4               False  Director Fernando Meirelles tells the story wi...   \n",
       "\n",
       "  sentiment                                              title  audienceScore  \\\n",
       "0  POSITIVE                                   Marvelous Pirate           65.0   \n",
       "1  NEGATIVE          Tony Montana Frodo Baggins V Rocky Balboa            NaN   \n",
       "2  POSITIVE  Darth Vader Katniss Everdeen Sorcerer Donnie D...           80.0   \n",
       "3  POSITIVE                                 Lara Croft Glimmer            NaN   \n",
       "4  POSITIVE  Jason Bourne Surreal The Terminator Indiana Jones           97.0   \n",
       "\n",
       "  rating                                     ratingContents  \\\n",
       "0  PG-13  ['Violence', 'Brief Strong Language', 'Substan...   \n",
       "1    NaN                                                NaN   \n",
       "2  PG-13  ['Language', 'A Scene of Sensuality', 'Sports ...   \n",
       "3    NaN                                                NaN   \n",
       "4      R  ['Language', 'Drug Content', 'Sexuality', 'Str...   \n",
       "\n",
       "  releaseDateTheaters releaseDateStreaming  runtimeMinutes  \\\n",
       "0          2022-10-21           2022-10-28           105.0   \n",
       "1                 NaN           2013-01-08            91.0   \n",
       "2          2018-11-21           2019-02-12           130.0   \n",
       "3                 NaN           2020-06-02            15.0   \n",
       "4          2003-01-17           2004-06-08           131.0   \n",
       "\n",
       "                                   genre     originalLanguage  \\\n",
       "0  Comedy, Animation, Adventure, Fantasy              English   \n",
       "1                                 Action              English   \n",
       "2                                  Drama              English   \n",
       "3                                  Drama              Spanish   \n",
       "4                           Crime, Drama  Portuguese (Brazil)   \n",
       "\n",
       "          director boxOffice                                 distributor  \\\n",
       "0     Bennie Basso       NaN                                     Netflix   \n",
       "1       Alma White       NaN                                         NaN   \n",
       "2     Bobby Oleary   $115.7M  Warner Bros. Pictures, Metro-Goldwyn-Mayer   \n",
       "3  Eric Hutcherson       NaN                                         NaN   \n",
       "4       John Trent     $7.6M                               Miramax Films   \n",
       "\n",
       "                                           soundType  \n",
       "0                                                NaN  \n",
       "1                                                NaN  \n",
       "2                                                NaN  \n",
       "3                                                NaN  \n",
       "4  Surround, Dolby SR, Dolby Digital, Dolby A, Do...  "
      ]
     },
     "execution_count": 10,
     "metadata": {},
     "output_type": "execute_result"
    }
   ],
   "source": [
    "#merging of train_data and movie_data\n",
    "#----left outer on movieid----\n",
    "train=pd.merge(train_data,movie_data,on='movieid',how='left')\n",
    "train.head()"
   ]
  },
  {
   "cell_type": "markdown",
   "id": "705393ab",
   "metadata": {
    "papermill": {
     "duration": 0.027231,
     "end_time": "2023-08-08T20:23:36.625932",
     "exception": false,
     "start_time": "2023-08-08T20:23:36.598701",
     "status": "completed"
    },
    "tags": []
   },
   "source": [
    "# **EDA on merged Dataset [Exploratory Data Analysis]**\n",
    "\n",
    "Exploratory Data Analysis (EDA) is the process of visually and statistically exploring the dataset to gain insights, identify patterns, relationships, and anomalies within the data. The primary goal of EDA is to understand the data, identify potential issues or challenges, and inform the subsequent steps of data preprocessing and model building."
   ]
  },
  {
   "cell_type": "markdown",
   "id": "86cd9139",
   "metadata": {
    "papermill": {
     "duration": 0.02757,
     "end_time": "2023-08-08T20:23:36.682380",
     "exception": false,
     "start_time": "2023-08-08T20:23:36.654810",
     "status": "completed"
    },
    "tags": []
   },
   "source": [
    "**EDA involves the following tasks:**\n",
    "* Summary Statistics\n",
    "* Data Visualization\n",
    "* Handling Missing Data\n",
    "* Outlier Detection\n",
    "* Feature Relationships\n",
    "* Data Distributions"
   ]
  },
  {
   "cell_type": "markdown",
   "id": "a36fe51e",
   "metadata": {
    "papermill": {
     "duration": 0.026559,
     "end_time": "2023-08-08T20:23:36.735529",
     "exception": false,
     "start_time": "2023-08-08T20:23:36.708970",
     "status": "completed"
    },
    "tags": []
   },
   "source": [
    "# Data insights"
   ]
  },
  {
   "cell_type": "code",
   "execution_count": 11,
   "id": "1582bcd0",
   "metadata": {
    "execution": {
     "iopub.execute_input": "2023-08-08T20:23:36.791847Z",
     "iopub.status.busy": "2023-08-08T20:23:36.791379Z",
     "iopub.status.idle": "2023-08-08T20:23:36.799300Z",
     "shell.execute_reply": "2023-08-08T20:23:36.798406Z"
    },
    "papermill": {
     "duration": 0.039458,
     "end_time": "2023-08-08T20:23:36.801633",
     "exception": false,
     "start_time": "2023-08-08T20:23:36.762175",
     "status": "completed"
    },
    "tags": []
   },
   "outputs": [
    {
     "data": {
      "text/plain": [
       "(162758, 18)"
      ]
     },
     "execution_count": 11,
     "metadata": {},
     "output_type": "execute_result"
    }
   ],
   "source": [
    "train.shape"
   ]
  },
  {
   "cell_type": "code",
   "execution_count": 12,
   "id": "26d504ee",
   "metadata": {
    "execution": {
     "iopub.execute_input": "2023-08-08T20:23:36.858875Z",
     "iopub.status.busy": "2023-08-08T20:23:36.857821Z",
     "iopub.status.idle": "2023-08-08T20:23:36.866176Z",
     "shell.execute_reply": "2023-08-08T20:23:36.864812Z"
    },
    "papermill": {
     "duration": 0.040185,
     "end_time": "2023-08-08T20:23:36.869309",
     "exception": false,
     "start_time": "2023-08-08T20:23:36.829124",
     "status": "completed"
    },
    "tags": []
   },
   "outputs": [
    {
     "data": {
      "text/plain": [
       "Index(['movieid', 'reviewerName', 'isFrequentReviewer', 'reviewText',\n",
       "       'sentiment', 'title', 'audienceScore', 'rating', 'ratingContents',\n",
       "       'releaseDateTheaters', 'releaseDateStreaming', 'runtimeMinutes',\n",
       "       'genre', 'originalLanguage', 'director', 'boxOffice', 'distributor',\n",
       "       'soundType'],\n",
       "      dtype='object')"
      ]
     },
     "execution_count": 12,
     "metadata": {},
     "output_type": "execute_result"
    }
   ],
   "source": [
    "train.columns"
   ]
  },
  {
   "cell_type": "code",
   "execution_count": 13,
   "id": "afde5c3a",
   "metadata": {
    "execution": {
     "iopub.execute_input": "2023-08-08T20:23:36.928396Z",
     "iopub.status.busy": "2023-08-08T20:23:36.927539Z",
     "iopub.status.idle": "2023-08-08T20:23:37.734348Z",
     "shell.execute_reply": "2023-08-08T20:23:37.732460Z"
    },
    "papermill": {
     "duration": 0.840103,
     "end_time": "2023-08-08T20:23:37.737343",
     "exception": false,
     "start_time": "2023-08-08T20:23:36.897240",
     "status": "completed"
    },
    "tags": []
   },
   "outputs": [
    {
     "name": "stdout",
     "output_type": "stream",
     "text": [
      "<class 'pandas.core.frame.DataFrame'>\n",
      "Int64Index: 162758 entries, 0 to 162757\n",
      "Data columns (total 18 columns):\n",
      " #   Column                Non-Null Count   Dtype  \n",
      "---  ------                --------------   -----  \n",
      " 0   movieid               162758 non-null  object \n",
      " 1   reviewerName          162758 non-null  object \n",
      " 2   isFrequentReviewer    162758 non-null  bool   \n",
      " 3   reviewText            156311 non-null  object \n",
      " 4   sentiment             162758 non-null  object \n",
      " 5   title                 162758 non-null  object \n",
      " 6   audienceScore         149510 non-null  float64\n",
      " 7   rating                99034 non-null   object \n",
      " 8   ratingContents        99034 non-null   object \n",
      " 9   releaseDateTheaters   126924 non-null  object \n",
      " 10  releaseDateStreaming  146573 non-null  object \n",
      " 11  runtimeMinutes        159382 non-null  float64\n",
      " 12  genre                 160320 non-null  object \n",
      " 13  originalLanguage      159468 non-null  object \n",
      " 14  director              162758 non-null  object \n",
      " 15  boxOffice             109982 non-null  object \n",
      " 16  distributor           122095 non-null  object \n",
      " 17  soundType             77391 non-null   object \n",
      "dtypes: bool(1), float64(2), object(15)\n",
      "memory usage: 22.5+ MB\n"
     ]
    }
   ],
   "source": [
    "#data types of each column \n",
    "train.info()"
   ]
  },
  {
   "cell_type": "markdown",
   "id": "568c7e3b",
   "metadata": {
    "papermill": {
     "duration": 0.027155,
     "end_time": "2023-08-08T20:23:37.791866",
     "exception": false,
     "start_time": "2023-08-08T20:23:37.764711",
     "status": "completed"
    },
    "tags": []
   },
   "source": [
    "We have,\n",
    "* **Numerical features** : audienceScore and runtimeMinues\n",
    "* **Categorical features** : reviewText, genre, title, and others"
   ]
  },
  {
   "cell_type": "code",
   "execution_count": 14,
   "id": "333e89f3",
   "metadata": {
    "execution": {
     "iopub.execute_input": "2023-08-08T20:23:37.849211Z",
     "iopub.status.busy": "2023-08-08T20:23:37.848800Z",
     "iopub.status.idle": "2023-08-08T20:23:38.654899Z",
     "shell.execute_reply": "2023-08-08T20:23:38.653489Z"
    },
    "papermill": {
     "duration": 0.837358,
     "end_time": "2023-08-08T20:23:38.657534",
     "exception": false,
     "start_time": "2023-08-08T20:23:37.820176",
     "status": "completed"
    },
    "tags": []
   },
   "outputs": [
    {
     "data": {
      "text/plain": [
       "movieid                     0\n",
       "reviewerName                0\n",
       "isFrequentReviewer          0\n",
       "reviewText               6447\n",
       "sentiment                   0\n",
       "title                       0\n",
       "audienceScore           13248\n",
       "rating                  63724\n",
       "ratingContents          63724\n",
       "releaseDateTheaters     35834\n",
       "releaseDateStreaming    16185\n",
       "runtimeMinutes           3376\n",
       "genre                    2438\n",
       "originalLanguage         3290\n",
       "director                    0\n",
       "boxOffice               52776\n",
       "distributor             40663\n",
       "soundType               85367\n",
       "dtype: int64"
      ]
     },
     "execution_count": 14,
     "metadata": {},
     "output_type": "execute_result"
    }
   ],
   "source": [
    "train.isnull().sum()"
   ]
  },
  {
   "cell_type": "code",
   "execution_count": 15,
   "id": "55161b66",
   "metadata": {
    "execution": {
     "iopub.execute_input": "2023-08-08T20:23:38.719529Z",
     "iopub.status.busy": "2023-08-08T20:23:38.718040Z",
     "iopub.status.idle": "2023-08-08T20:23:38.767643Z",
     "shell.execute_reply": "2023-08-08T20:23:38.766187Z"
    },
    "papermill": {
     "duration": 0.085489,
     "end_time": "2023-08-08T20:23:38.771365",
     "exception": false,
     "start_time": "2023-08-08T20:23:38.685876",
     "status": "completed"
    },
    "tags": []
   },
   "outputs": [
    {
     "data": {
      "text/html": [
       "<div>\n",
       "<style scoped>\n",
       "    .dataframe tbody tr th:only-of-type {\n",
       "        vertical-align: middle;\n",
       "    }\n",
       "\n",
       "    .dataframe tbody tr th {\n",
       "        vertical-align: top;\n",
       "    }\n",
       "\n",
       "    .dataframe thead th {\n",
       "        text-align: right;\n",
       "    }\n",
       "</style>\n",
       "<table border=\"1\" class=\"dataframe\">\n",
       "  <thead>\n",
       "    <tr style=\"text-align: right;\">\n",
       "      <th></th>\n",
       "      <th>audienceScore</th>\n",
       "      <th>runtimeMinutes</th>\n",
       "    </tr>\n",
       "  </thead>\n",
       "  <tbody>\n",
       "    <tr>\n",
       "      <th>count</th>\n",
       "      <td>149510.000000</td>\n",
       "      <td>159382.000000</td>\n",
       "    </tr>\n",
       "    <tr>\n",
       "      <th>mean</th>\n",
       "      <td>65.214541</td>\n",
       "      <td>106.911828</td>\n",
       "    </tr>\n",
       "    <tr>\n",
       "      <th>std</th>\n",
       "      <td>19.937695</td>\n",
       "      <td>22.138131</td>\n",
       "    </tr>\n",
       "    <tr>\n",
       "      <th>min</th>\n",
       "      <td>0.000000</td>\n",
       "      <td>4.000000</td>\n",
       "    </tr>\n",
       "    <tr>\n",
       "      <th>25%</th>\n",
       "      <td>51.000000</td>\n",
       "      <td>93.000000</td>\n",
       "    </tr>\n",
       "    <tr>\n",
       "      <th>50%</th>\n",
       "      <td>68.000000</td>\n",
       "      <td>104.000000</td>\n",
       "    </tr>\n",
       "    <tr>\n",
       "      <th>75%</th>\n",
       "      <td>82.000000</td>\n",
       "      <td>118.000000</td>\n",
       "    </tr>\n",
       "    <tr>\n",
       "      <th>max</th>\n",
       "      <td>100.000000</td>\n",
       "      <td>561.000000</td>\n",
       "    </tr>\n",
       "  </tbody>\n",
       "</table>\n",
       "</div>"
      ],
      "text/plain": [
       "       audienceScore  runtimeMinutes\n",
       "count  149510.000000   159382.000000\n",
       "mean       65.214541      106.911828\n",
       "std        19.937695       22.138131\n",
       "min         0.000000        4.000000\n",
       "25%        51.000000       93.000000\n",
       "50%        68.000000      104.000000\n",
       "75%        82.000000      118.000000\n",
       "max       100.000000      561.000000"
      ]
     },
     "execution_count": 15,
     "metadata": {},
     "output_type": "execute_result"
    }
   ],
   "source": [
    "train.describe()"
   ]
  },
  {
   "cell_type": "markdown",
   "id": "6d155033",
   "metadata": {
    "papermill": {
     "duration": 0.029263,
     "end_time": "2023-08-08T20:23:38.829505",
     "exception": false,
     "start_time": "2023-08-08T20:23:38.800242",
     "status": "completed"
    },
    "tags": []
   },
   "source": [
    "# Data Visualisation"
   ]
  },
  {
   "cell_type": "code",
   "execution_count": 16,
   "id": "efad9df2",
   "metadata": {
    "execution": {
     "iopub.execute_input": "2023-08-08T20:23:38.891621Z",
     "iopub.status.busy": "2023-08-08T20:23:38.891161Z",
     "iopub.status.idle": "2023-08-08T20:23:39.435114Z",
     "shell.execute_reply": "2023-08-08T20:23:39.433048Z"
    },
    "papermill": {
     "duration": 0.578925,
     "end_time": "2023-08-08T20:23:39.438114",
     "exception": false,
     "start_time": "2023-08-08T20:23:38.859189",
     "status": "completed"
    },
    "tags": []
   },
   "outputs": [
    {
     "data": {
      "image/png": "[encoded data removed]",
      "text/plain": [
       "<Figure size 640x480 with 1 Axes>"
      ]
     },
     "metadata": {},
     "output_type": "display_data"
    }
   ],
   "source": [
    "#Data Visualisation on sentiment column\n",
    "#countplot of sentiment using seaborn\n",
    "sns.set(style='darkgrid')\n",
    "sns.countplot(data=train, x='sentiment')\n",
    "sentiment_counts = train['sentiment'].value_counts()\n",
    "# Set the plot title and labels\n",
    "plt.title('Sentiment Count')\n",
    "plt.xlabel('Sentiment')\n",
    "plt.ylabel('Count')\n",
    "\n",
    "# Show the plot\n",
    "plt.show()\n"
   ]
  },
  {
   "cell_type": "markdown",
   "id": "dd62fa64",
   "metadata": {
    "papermill": {
     "duration": 0.029993,
     "end_time": "2023-08-08T20:23:39.497364",
     "exception": false,
     "start_time": "2023-08-08T20:23:39.467371",
     "status": "completed"
    },
    "tags": []
   },
   "source": [
    "**Observation:** We can observe that we have More Positive sentiment comparison to Negative sentiments."
   ]
  },
  {
   "cell_type": "code",
   "execution_count": 17,
   "id": "57a05253",
   "metadata": {
    "execution": {
     "iopub.execute_input": "2023-08-08T20:23:39.559105Z",
     "iopub.status.busy": "2023-08-08T20:23:39.558401Z",
     "iopub.status.idle": "2023-08-08T20:23:39.592309Z",
     "shell.execute_reply": "2023-08-08T20:23:39.590534Z"
    },
    "papermill": {
     "duration": 0.068154,
     "end_time": "2023-08-08T20:23:39.595148",
     "exception": false,
     "start_time": "2023-08-08T20:23:39.526994",
     "status": "completed"
    },
    "tags": []
   },
   "outputs": [
    {
     "data": {
      "text/plain": [
       "POSITIVE    108761\n",
       "NEGATIVE     53997\n",
       "Name: sentiment, dtype: int64"
      ]
     },
     "execution_count": 17,
     "metadata": {},
     "output_type": "execute_result"
    }
   ],
   "source": [
    "train_data['sentiment'].value_counts()"
   ]
  },
  {
   "cell_type": "code",
   "execution_count": 18,
   "id": "bb14e2b8",
   "metadata": {
    "execution": {
     "iopub.execute_input": "2023-08-08T20:23:39.655838Z",
     "iopub.status.busy": "2023-08-08T20:23:39.655419Z",
     "iopub.status.idle": "2023-08-08T20:23:40.513462Z",
     "shell.execute_reply": "2023-08-08T20:23:40.512001Z"
    },
    "papermill": {
     "duration": 0.891873,
     "end_time": "2023-08-08T20:23:40.516086",
     "exception": false,
     "start_time": "2023-08-08T20:23:39.624213",
     "status": "completed"
    },
    "tags": []
   },
   "outputs": [
    {
     "data": {
      "image/png": "[encoded data removed]",
      "text/plain": [
       "<Figure size 800x600 with 1 Axes>"
      ]
     },
     "metadata": {},
     "output_type": "display_data"
    }
   ],
   "source": [
    "plt.figure(figsize=(8, 6))\n",
    "sns.scatterplot(x='audienceScore',y='rating',data=train)\n",
    "plt.xlabel('Audience Score')\n",
    "plt.ylabel('Rating')\n",
    "plt.title('Distribution of Audience Score')\n",
    "plt.show()"
   ]
  },
  {
   "cell_type": "markdown",
   "id": "7e0d6a9d",
   "metadata": {
    "papermill": {
     "duration": 0.029027,
     "end_time": "2023-08-08T20:23:40.574266",
     "exception": false,
     "start_time": "2023-08-08T20:23:40.545239",
     "status": "completed"
    },
    "tags": []
   },
   "source": [
    "**Observation** : audienceScore is high for rating PG-13, R, PG"
   ]
  },
  {
   "cell_type": "code",
   "execution_count": 19,
   "id": "f264377f",
   "metadata": {
    "execution": {
     "iopub.execute_input": "2023-08-08T20:23:40.640596Z",
     "iopub.status.busy": "2023-08-08T20:23:40.640170Z",
     "iopub.status.idle": "2023-08-08T20:23:40.990723Z",
     "shell.execute_reply": "2023-08-08T20:23:40.989499Z"
    },
    "papermill": {
     "duration": 0.386458,
     "end_time": "2023-08-08T20:23:40.993574",
     "exception": false,
     "start_time": "2023-08-08T20:23:40.607116",
     "status": "completed"
    },
    "tags": []
   },
   "outputs": [
    {
     "data": {
      "image/png": "[encoded data removed]",
      "text/plain": [
       "<Figure size 800x600 with 1 Axes>"
      ]
     },
     "metadata": {},
     "output_type": "display_data"
    }
   ],
   "source": [
    "#Box Plot for audience score\n",
    "plt.figure(figsize=(8, 6))\n",
    "sns.boxplot(data=train, x='audienceScore')\n",
    "plt.xlabel('Audience Score')\n",
    "plt.title('Box Plot of Audience Score')\n",
    "plt.show()"
   ]
  },
  {
   "cell_type": "markdown",
   "id": "a564b06c",
   "metadata": {
    "papermill": {
     "duration": 0.030929,
     "end_time": "2023-08-08T20:23:41.054878",
     "exception": false,
     "start_time": "2023-08-08T20:23:41.023949",
     "status": "completed"
    },
    "tags": []
   },
   "source": [
    "**Observation** : presence of outliers in audience score"
   ]
  },
  {
   "cell_type": "markdown",
   "id": "08857cc5",
   "metadata": {
    "papermill": {
     "duration": 0.029621,
     "end_time": "2023-08-08T20:23:41.117732",
     "exception": false,
     "start_time": "2023-08-08T20:23:41.088111",
     "status": "completed"
    },
    "tags": []
   },
   "source": [
    "* BoxPlot shows Central tendency of data distribution"
   ]
  },
  {
   "cell_type": "code",
   "execution_count": 20,
   "id": "c8cebbf3",
   "metadata": {
    "execution": {
     "iopub.execute_input": "2023-08-08T20:23:41.181343Z",
     "iopub.status.busy": "2023-08-08T20:23:41.179419Z",
     "iopub.status.idle": "2023-08-08T20:23:41.719690Z",
     "shell.execute_reply": "2023-08-08T20:23:41.718395Z"
    },
    "papermill": {
     "duration": 0.575304,
     "end_time": "2023-08-08T20:23:41.722774",
     "exception": false,
     "start_time": "2023-08-08T20:23:41.147470",
     "status": "completed"
    },
    "tags": []
   },
   "outputs": [
    {
     "data": {
      "text/plain": [
       "<Axes: >"
      ]
     },
     "execution_count": 20,
     "metadata": {},
     "output_type": "execute_result"
    },
    {
     "data": {
      "image/png": "[encoded data removed]",
      "text/plain": [
       "<Figure size 800x600 with 2 Axes>"
      ]
     },
     "metadata": {},
     "output_type": "display_data"
    }
   ],
   "source": [
    "data=train[['audienceScore','runtimeMinutes']]\n",
    "plt.figure(figsize=(8,6))\n",
    "sns.heatmap(data.corr(),annot=True)"
   ]
  },
  {
   "cell_type": "code",
   "execution_count": 21,
   "id": "b02ebd21",
   "metadata": {
    "execution": {
     "iopub.execute_input": "2023-08-08T20:23:41.786965Z",
     "iopub.status.busy": "2023-08-08T20:23:41.786276Z",
     "iopub.status.idle": "2023-08-08T20:23:42.284253Z",
     "shell.execute_reply": "2023-08-08T20:23:42.283363Z"
    },
    "papermill": {
     "duration": 0.533032,
     "end_time": "2023-08-08T20:23:42.286732",
     "exception": false,
     "start_time": "2023-08-08T20:23:41.753700",
     "status": "completed"
    },
    "tags": []
   },
   "outputs": [
    {
     "data": {
      "image/png": "[encoded data removed]",
      "text/plain": [
       "<Figure size 800x600 with 1 Axes>"
      ]
     },
     "metadata": {},
     "output_type": "display_data"
    }
   ],
   "source": [
    "#Bar plot of rating frequencies\n",
    "rating_counts = train['rating'].value_counts()\n",
    "\n",
    "# Create the bar plot\n",
    "plt.figure(figsize=(8, 6))\n",
    "plt.bar(rating_counts.index, rating_counts.values)\n",
    "plt.xlabel('rating')\n",
    "plt.ylabel('Frequency')\n",
    "plt.title('rating Frequency after performing Imputation')\n",
    "plt.xticks(rotation=45)  # Rotate x-axis labels if they are long\n",
    "plt.tight_layout()\n",
    "plt.show()"
   ]
  },
  {
   "cell_type": "markdown",
   "id": "4f9aaa75",
   "metadata": {
    "papermill": {
     "duration": 0.030327,
     "end_time": "2023-08-08T20:23:42.348825",
     "exception": false,
     "start_time": "2023-08-08T20:23:42.318498",
     "status": "completed"
    },
    "tags": []
   },
   "source": [
    "**Rating :**\n",
    "* R :  This rating is usually assigned to movies and indicates that the content is          intended for adult audiences\n",
    "* PG-13 : Movies with this rating suggest that some material may be inappropriate          for children under 13 years old\n",
    "* PG : Movies with a PG rating are generally considered suitable for general      audiences, including children.\n",
    "* NC-17 : This rating is given to films that are intended for adults only (18 years old and above).\n",
    "* TVPG : This rating is used for TV shows and indicates that the content may contain material that requires parental guidance.\n",
    "* TV14 : TV shows with this rating suggest that the content is intended for viewers aged 14 years old and above\n",
    "* TVMA : TV-MA stands for \"Mature Audiences\""
   ]
  },
  {
   "cell_type": "markdown",
   "id": "78ec50da",
   "metadata": {
    "papermill": {
     "duration": 0.031175,
     "end_time": "2023-08-08T20:23:42.410306",
     "exception": false,
     "start_time": "2023-08-08T20:23:42.379131",
     "status": "completed"
    },
    "tags": []
   },
   "source": [
    "# Handling Missing Values"
   ]
  },
  {
   "cell_type": "code",
   "execution_count": 22,
   "id": "830cee59",
   "metadata": {
    "execution": {
     "iopub.execute_input": "2023-08-08T20:23:42.477428Z",
     "iopub.status.busy": "2023-08-08T20:23:42.476832Z",
     "iopub.status.idle": "2023-08-08T20:23:43.265820Z",
     "shell.execute_reply": "2023-08-08T20:23:43.264334Z"
    },
    "papermill": {
     "duration": 0.823942,
     "end_time": "2023-08-08T20:23:43.268375",
     "exception": false,
     "start_time": "2023-08-08T20:23:42.444433",
     "status": "completed"
    },
    "tags": []
   },
   "outputs": [
    {
     "data": {
      "text/plain": [
       "movieid                     0\n",
       "reviewerName                0\n",
       "isFrequentReviewer          0\n",
       "reviewText               6447\n",
       "sentiment                   0\n",
       "title                       0\n",
       "audienceScore           13248\n",
       "rating                  63724\n",
       "ratingContents          63724\n",
       "releaseDateTheaters     35834\n",
       "releaseDateStreaming    16185\n",
       "runtimeMinutes           3376\n",
       "genre                    2438\n",
       "originalLanguage         3290\n",
       "director                    0\n",
       "boxOffice               52776\n",
       "distributor             40663\n",
       "soundType               85367\n",
       "dtype: int64"
      ]
     },
     "execution_count": 22,
     "metadata": {},
     "output_type": "execute_result"
    }
   ],
   "source": [
    "train.isnull().sum()"
   ]
  },
  {
   "cell_type": "markdown",
   "id": "fdf447fc",
   "metadata": {
    "papermill": {
     "duration": 0.031832,
     "end_time": "2023-08-08T20:23:43.333325",
     "exception": false,
     "start_time": "2023-08-08T20:23:43.301493",
     "status": "completed"
    },
    "tags": []
   },
   "source": [
    "**Imputation** : Imputation is a process used to handle missing data in a dataset by filling in the missing values with estimated or substituted values\n",
    "\n",
    "* Strategy we have : mean, median, mode, constant"
   ]
  },
  {
   "cell_type": "code",
   "execution_count": 23,
   "id": "df1ada24",
   "metadata": {
    "execution": {
     "iopub.execute_input": "2023-08-08T20:23:43.396760Z",
     "iopub.status.busy": "2023-08-08T20:23:43.396314Z",
     "iopub.status.idle": "2023-08-08T20:23:43.425936Z",
     "shell.execute_reply": "2023-08-08T20:23:43.424775Z"
    },
    "papermill": {
     "duration": 0.06467,
     "end_time": "2023-08-08T20:23:43.428883",
     "exception": false,
     "start_time": "2023-08-08T20:23:43.364213",
     "status": "completed"
    },
    "tags": []
   },
   "outputs": [],
   "source": [
    "train['reviewText'].fillna('', inplace=True)"
   ]
  },
  {
   "cell_type": "code",
   "execution_count": 24,
   "id": "8fd252d7",
   "metadata": {
    "execution": {
     "iopub.execute_input": "2023-08-08T20:23:43.497010Z",
     "iopub.status.busy": "2023-08-08T20:23:43.496581Z",
     "iopub.status.idle": "2023-08-08T20:23:44.277495Z",
     "shell.execute_reply": "2023-08-08T20:23:44.276366Z"
    },
    "papermill": {
     "duration": 0.81857,
     "end_time": "2023-08-08T20:23:44.280307",
     "exception": false,
     "start_time": "2023-08-08T20:23:43.461737",
     "status": "completed"
    },
    "tags": []
   },
   "outputs": [
    {
     "data": {
      "text/plain": [
       "movieid                     0\n",
       "reviewerName                0\n",
       "isFrequentReviewer          0\n",
       "reviewText                  0\n",
       "sentiment                   0\n",
       "title                       0\n",
       "audienceScore           13248\n",
       "rating                  63724\n",
       "ratingContents          63724\n",
       "releaseDateTheaters     35834\n",
       "releaseDateStreaming    16185\n",
       "runtimeMinutes           3376\n",
       "genre                    2438\n",
       "originalLanguage         3290\n",
       "director                    0\n",
       "boxOffice               52776\n",
       "distributor             40663\n",
       "soundType               85367\n",
       "dtype: int64"
      ]
     },
     "execution_count": 24,
     "metadata": {},
     "output_type": "execute_result"
    }
   ],
   "source": [
    "train.isnull().sum()"
   ]
  },
  {
   "cell_type": "code",
   "execution_count": 25,
   "id": "77615da8",
   "metadata": {
    "execution": {
     "iopub.execute_input": "2023-08-08T20:23:44.346087Z",
     "iopub.status.busy": "2023-08-08T20:23:44.345659Z",
     "iopub.status.idle": "2023-08-08T20:23:44.398131Z",
     "shell.execute_reply": "2023-08-08T20:23:44.396473Z"
    },
    "papermill": {
     "duration": 0.0899,
     "end_time": "2023-08-08T20:23:44.401085",
     "exception": false,
     "start_time": "2023-08-08T20:23:44.311185",
     "status": "completed"
    },
    "tags": []
   },
   "outputs": [],
   "source": [
    "# Drop unnecessary columns (you can choose to keep other columns based on your model requirements)\n",
    "train.drop(columns=[\"movieid\", \"reviewerName\", \"isFrequentReviewer\"], inplace=True)"
   ]
  },
  {
   "cell_type": "code",
   "execution_count": 26,
   "id": "6e1b065a",
   "metadata": {
    "execution": {
     "iopub.execute_input": "2023-08-08T20:23:44.467546Z",
     "iopub.status.busy": "2023-08-08T20:23:44.467141Z",
     "iopub.status.idle": "2023-08-08T20:23:44.514296Z",
     "shell.execute_reply": "2023-08-08T20:23:44.512977Z"
    },
    "papermill": {
     "duration": 0.083618,
     "end_time": "2023-08-08T20:23:44.516901",
     "exception": false,
     "start_time": "2023-08-08T20:23:44.433283",
     "status": "completed"
    },
    "tags": []
   },
   "outputs": [],
   "source": [
    "# Drop columns with high missing value percentage\n",
    "train.drop(columns=[\"boxOffice\", \"releaseDateTheaters\"], inplace=True)"
   ]
  },
  {
   "cell_type": "code",
   "execution_count": 27,
   "id": "87df6825",
   "metadata": {
    "execution": {
     "iopub.execute_input": "2023-08-08T20:23:44.581199Z",
     "iopub.status.busy": "2023-08-08T20:23:44.580745Z",
     "iopub.status.idle": "2023-08-08T20:23:45.161843Z",
     "shell.execute_reply": "2023-08-08T20:23:45.160531Z"
    },
    "papermill": {
     "duration": 0.617255,
     "end_time": "2023-08-08T20:23:45.165037",
     "exception": false,
     "start_time": "2023-08-08T20:23:44.547782",
     "status": "completed"
    },
    "tags": []
   },
   "outputs": [
    {
     "data": {
      "text/plain": [
       "reviewText                  0\n",
       "sentiment                   0\n",
       "title                       0\n",
       "audienceScore           13248\n",
       "rating                  63724\n",
       "ratingContents          63724\n",
       "releaseDateStreaming    16185\n",
       "runtimeMinutes           3376\n",
       "genre                    2438\n",
       "originalLanguage         3290\n",
       "director                    0\n",
       "distributor             40663\n",
       "soundType               85367\n",
       "dtype: int64"
      ]
     },
     "execution_count": 27,
     "metadata": {},
     "output_type": "execute_result"
    }
   ],
   "source": [
    "train.isnull().sum()"
   ]
  },
  {
   "cell_type": "markdown",
   "id": "4dabf61e",
   "metadata": {
    "papermill": {
     "duration": 0.034796,
     "end_time": "2023-08-08T20:23:45.232038",
     "exception": false,
     "start_time": "2023-08-08T20:23:45.197242",
     "status": "completed"
    },
    "tags": []
   },
   "source": [
    "# **Data Precprocessing**\n",
    "\n",
    "Data preprocessing is a crucial step in the machine learning workflow that involves cleaning, transforming, and preparing the data to make it suitable for training and building predictive models."
   ]
  },
  {
   "cell_type": "markdown",
   "id": "8a6b22b4",
   "metadata": {
    "papermill": {
     "duration": 0.033269,
     "end_time": "2023-08-08T20:23:45.296695",
     "exception": false,
     "start_time": "2023-08-08T20:23:45.263426",
     "status": "completed"
    },
    "tags": []
   },
   "source": [
    "**Some general steps of data preprocessing :**\n",
    "* Data Cleaning\n",
    "* Feature Selection\n",
    "* Feature Engineering\n",
    "* Data Transformation\n",
    "* Feature Scaling\n",
    "* Handling Categorical Data"
   ]
  },
  {
   "cell_type": "markdown",
   "id": "335ea084",
   "metadata": {
    "papermill": {
     "duration": 0.032951,
     "end_time": "2023-08-08T20:23:45.361688",
     "exception": false,
     "start_time": "2023-08-08T20:23:45.328737",
     "status": "completed"
    },
    "tags": []
   },
   "source": [
    "**TextCleaning Steps**\n",
    "* Remove special characters,numbers and symbols\n",
    "* Tokenization"
   ]
  },
  {
   "cell_type": "code",
   "execution_count": 28,
   "id": "ab30e38f",
   "metadata": {
    "execution": {
     "iopub.execute_input": "2023-08-08T20:23:45.431104Z",
     "iopub.status.busy": "2023-08-08T20:23:45.430619Z",
     "iopub.status.idle": "2023-08-08T20:23:45.452043Z",
     "shell.execute_reply": "2023-08-08T20:23:45.450533Z"
    },
    "papermill": {
     "duration": 0.06097,
     "end_time": "2023-08-08T20:23:45.455297",
     "exception": false,
     "start_time": "2023-08-08T20:23:45.394327",
     "status": "completed"
    },
    "tags": []
   },
   "outputs": [],
   "source": [
    "#Separating feature and target\n",
    "features=['reviewText','originalLanguage','genre','runtimeMinutes','audienceScore','rating','ratingContents','distributor','director']\n",
    "X = train[features]\n",
    "y = train['sentiment']"
   ]
  },
  {
   "cell_type": "markdown",
   "id": "60163386",
   "metadata": {
    "papermill": {
     "duration": 0.031879,
     "end_time": "2023-08-08T20:23:45.520158",
     "exception": false,
     "start_time": "2023-08-08T20:23:45.488279",
     "status": "completed"
    },
    "tags": []
   },
   "source": [
    "# Feature Enginnering Process\n",
    "**Feature scaling on numerical features**\n",
    "\n",
    "**Feature scaling** techniques are used to transform numerical features in a dataset to a similar scale. Scaling is essential in many machine learning algorithms, as it helps improve convergence speed, model performance, and stability.\n",
    "*Min-Max Scaling*\n",
    "\n",
    "*Standard Scaler*\n",
    "\n",
    "*Max Abs Scaling*\n",
    "\n",
    "**Encoding on Categorical Features**\n",
    "\n",
    " *One Hot Encoding*\n",
    " \n",
    "  *Label Encoding*\n",
    "  \n",
    "  *Ordinal Encoding*\n",
    "\n",
    "**TfidfVectorizer**,**countVectorize**r on **Text data**"
   ]
  },
  {
   "cell_type": "markdown",
   "id": "aff5b7fb",
   "metadata": {
    "papermill": {
     "duration": 0.03134,
     "end_time": "2023-08-08T20:23:45.584581",
     "exception": false,
     "start_time": "2023-08-08T20:23:45.553241",
     "status": "completed"
    },
    "tags": []
   },
   "source": [
    "**Feature scaling on numerical data using MinMaxScaler**"
   ]
  },
  {
   "cell_type": "code",
   "execution_count": 29,
   "id": "79bae1f1",
   "metadata": {
    "execution": {
     "iopub.execute_input": "2023-08-08T20:23:45.654213Z",
     "iopub.status.busy": "2023-08-08T20:23:45.653337Z",
     "iopub.status.idle": "2023-08-08T20:23:46.372654Z",
     "shell.execute_reply": "2023-08-08T20:23:46.371462Z"
    },
    "papermill": {
     "duration": 0.758806,
     "end_time": "2023-08-08T20:23:46.375590",
     "exception": false,
     "start_time": "2023-08-08T20:23:45.616784",
     "status": "completed"
    },
    "tags": []
   },
   "outputs": [],
   "source": [
    "from sklearn.preprocessing import OneHotEncoder, StandardScaler\n",
    "from sklearn.preprocessing import MinMaxScaler\n",
    "from sklearn.model_selection import cross_val_score\n",
    "from sklearn.pipeline import Pipeline\n",
    "from sklearn.compose import ColumnTransformer\n",
    "from sklearn.impute import SimpleImputer\n",
    "from sklearn.metrics import classification_report,confusion_matrix"
   ]
  },
  {
   "cell_type": "code",
   "execution_count": 30,
   "id": "18f1e636",
   "metadata": {
    "execution": {
     "iopub.execute_input": "2023-08-08T20:23:46.446329Z",
     "iopub.status.busy": "2023-08-08T20:23:46.445907Z",
     "iopub.status.idle": "2023-08-08T20:23:46.452347Z",
     "shell.execute_reply": "2023-08-08T20:23:46.450998Z"
    },
    "papermill": {
     "duration": 0.047404,
     "end_time": "2023-08-08T20:23:46.455146",
     "exception": false,
     "start_time": "2023-08-08T20:23:46.407742",
     "status": "completed"
    },
    "tags": []
   },
   "outputs": [],
   "source": [
    "# Define column transformer to process different types of features\n",
    "numeric_features = ['runtimeMinutes','audienceScore']\n",
    "categorical_features = ['genre','originalLanguage','rating','ratingContents','distributor','director']\n",
    "text_feature = 'reviewText'"
   ]
  },
  {
   "cell_type": "code",
   "execution_count": 31,
   "id": "63086a21",
   "metadata": {
    "execution": {
     "iopub.execute_input": "2023-08-08T20:23:46.523048Z",
     "iopub.status.busy": "2023-08-08T20:23:46.521900Z",
     "iopub.status.idle": "2023-08-08T20:23:46.528288Z",
     "shell.execute_reply": "2023-08-08T20:23:46.527331Z"
    },
    "papermill": {
     "duration": 0.04239,
     "end_time": "2023-08-08T20:23:46.530940",
     "exception": false,
     "start_time": "2023-08-08T20:23:46.488550",
     "status": "completed"
    },
    "tags": []
   },
   "outputs": [],
   "source": [
    "numeric_transformer = Pipeline(steps=[\n",
    "    ('imputer', SimpleImputer(strategy='mean')),\n",
    "    ('scaler', MinMaxScaler())\n",
    "])"
   ]
  },
  {
   "cell_type": "code",
   "execution_count": 32,
   "id": "3b611ef0",
   "metadata": {
    "execution": {
     "iopub.execute_input": "2023-08-08T20:23:46.596827Z",
     "iopub.status.busy": "2023-08-08T20:23:46.595955Z",
     "iopub.status.idle": "2023-08-08T20:23:46.602599Z",
     "shell.execute_reply": "2023-08-08T20:23:46.601141Z"
    },
    "papermill": {
     "duration": 0.044187,
     "end_time": "2023-08-08T20:23:46.606017",
     "exception": false,
     "start_time": "2023-08-08T20:23:46.561830",
     "status": "completed"
    },
    "tags": []
   },
   "outputs": [],
   "source": [
    "\n",
    "categorical_transformer = Pipeline(steps=[\n",
    "    ('imputer', SimpleImputer(strategy='most_frequent')),\n",
    "    ('encoder', OneHotEncoder(handle_unknown='ignore'))\n",
    "])\n"
   ]
  },
  {
   "cell_type": "markdown",
   "id": "e82e7eb0",
   "metadata": {
    "papermill": {
     "duration": 0.031061,
     "end_time": "2023-08-08T20:23:46.669398",
     "exception": false,
     "start_time": "2023-08-08T20:23:46.638337",
     "status": "completed"
    },
    "tags": []
   },
   "source": [
    "**TF-IDF** stands for Term Frequency-Inverse Document Frequency. It is a numerical representation of a word's importance in a document relative to a collection of documents "
   ]
  },
  {
   "cell_type": "code",
   "execution_count": 33,
   "id": "d7034ba5",
   "metadata": {
    "execution": {
     "iopub.execute_input": "2023-08-08T20:23:46.734525Z",
     "iopub.status.busy": "2023-08-08T20:23:46.733813Z",
     "iopub.status.idle": "2023-08-08T20:23:46.758514Z",
     "shell.execute_reply": "2023-08-08T20:23:46.757442Z"
    },
    "papermill": {
     "duration": 0.060328,
     "end_time": "2023-08-08T20:23:46.761377",
     "exception": false,
     "start_time": "2023-08-08T20:23:46.701049",
     "status": "completed"
    },
    "tags": []
   },
   "outputs": [],
   "source": [
    "from sklearn.feature_extraction.text import TfidfVectorizer\n",
    "\n",
    "#Creating the instance of Tfidf\n",
    "tfidf_transformer = TfidfVectorizer()\n",
    "\n",
    "# ColumnTransformer\n",
    "preprocessor = ColumnTransformer(\n",
    "    transformers=[\n",
    "        ('num', numeric_transformer, numeric_features),\n",
    "        ('cat', categorical_transformer, categorical_features),\n",
    "        ('text', tfidf_transformer, text_feature)\n",
    "    ])"
   ]
  },
  {
   "cell_type": "code",
   "execution_count": 34,
   "id": "764dc8f5",
   "metadata": {
    "execution": {
     "iopub.execute_input": "2023-08-08T20:23:46.828617Z",
     "iopub.status.busy": "2023-08-08T20:23:46.827368Z",
     "iopub.status.idle": "2023-08-08T20:23:54.075248Z",
     "shell.execute_reply": "2023-08-08T20:23:54.073539Z"
    },
    "papermill": {
     "duration": 7.284981,
     "end_time": "2023-08-08T20:23:54.078602",
     "exception": false,
     "start_time": "2023-08-08T20:23:46.793621",
     "status": "completed"
    },
    "tags": []
   },
   "outputs": [],
   "source": [
    "#applying preprocessing steps on training data\n",
    "X_preprocessed = preprocessor.fit_transform(X)\n"
   ]
  },
  {
   "cell_type": "markdown",
   "id": "11612cd4",
   "metadata": {
    "papermill": {
     "duration": 0.033594,
     "end_time": "2023-08-08T20:23:54.148213",
     "exception": false,
     "start_time": "2023-08-08T20:23:54.114619",
     "status": "completed"
    },
    "tags": []
   },
   "source": [
    "# **Model Training with Hyper Parameter tuning**"
   ]
  },
  {
   "cell_type": "markdown",
   "id": "035e4ea8",
   "metadata": {
    "papermill": {
     "duration": 0.034042,
     "end_time": "2023-08-08T20:23:54.213960",
     "exception": false,
     "start_time": "2023-08-08T20:23:54.179918",
     "status": "completed"
    },
    "tags": []
   },
   "source": [
    "Hyperparameter tuning, also known as hyperparameter optimization, is the process of finding the best set of hyperparameters for a machine learning model.  They control various aspects of the learning algorithm and can significantly impact the model's performance and generalization ability.\n",
    "There are two main hyperparameter tuning techniques :\n",
    "* GridSearchCV \n",
    "* RandomizedSearchCV\n",
    "\n",
    "*** GridSearchCV** : GridSearchCV performs an exhaustive search over a predefined set of hyperparameter values. It systematically explores all possible combinations of hyperparameters from the provided search space.\n",
    "It uses a grid-like structure, where each point in the grid represents a unique combination of hyperparameters to be tested.\n",
    "\n",
    "*** RandomizedSearchCV** : RandomizedSearchCV, on the other hand, performs a random search over a specified hyperparameter search space. Instead of exploring all possible combinations, it samples a fixed number of random combinations from the search space."
   ]
  },
  {
   "cell_type": "markdown",
   "id": "b1867acc",
   "metadata": {
    "papermill": {
     "duration": 0.032187,
     "end_time": "2023-08-08T20:23:54.278384",
     "exception": false,
     "start_time": "2023-08-08T20:23:54.246197",
     "status": "completed"
    },
    "tags": []
   },
   "source": [
    "* **Data splitting for model training and evaluation**"
   ]
  },
  {
   "cell_type": "code",
   "execution_count": 35,
   "id": "c326501f",
   "metadata": {
    "execution": {
     "iopub.execute_input": "2023-08-08T20:23:54.343953Z",
     "iopub.status.busy": "2023-08-08T20:23:54.343345Z",
     "iopub.status.idle": "2023-08-08T20:23:54.399887Z",
     "shell.execute_reply": "2023-08-08T20:23:54.398532Z"
    },
    "papermill": {
     "duration": 0.093084,
     "end_time": "2023-08-08T20:23:54.402668",
     "exception": false,
     "start_time": "2023-08-08T20:23:54.309584",
     "status": "completed"
    },
    "tags": []
   },
   "outputs": [],
   "source": [
    "#splitting the train dataset for validation (80:20)\n",
    "from sklearn.model_selection import train_test_split, GridSearchCV\n",
    "X_train, X_test, y_train, y_test = train_test_split(X_preprocessed, y, test_size=0.2, random_state=42)"
   ]
  },
  {
   "cell_type": "markdown",
   "id": "2b38e574",
   "metadata": {
    "papermill": {
     "duration": 0.032121,
     "end_time": "2023-08-08T20:23:54.468403",
     "exception": false,
     "start_time": "2023-08-08T20:23:54.436282",
     "status": "completed"
    },
    "tags": []
   },
   "source": [
    "# Model 1 : Logistic Regression Model"
   ]
  },
  {
   "cell_type": "markdown",
   "id": "f12f8c73",
   "metadata": {
    "papermill": {
     "duration": 0.032473,
     "end_time": "2023-08-08T20:23:54.533659",
     "exception": false,
     "start_time": "2023-08-08T20:23:54.501186",
     "status": "completed"
    },
    "tags": []
   },
   "source": [
    "**A baseline model**, also known as a \"naive model\" or \"simple model,\" serves as a starting point or reference point for comparing the performance of more complex machine learning models. It is a relatively simple and straightforward model that does not involve any sophisticated algorithms ."
   ]
  },
  {
   "cell_type": "markdown",
   "id": "1916ac06",
   "metadata": {
    "papermill": {
     "duration": 0.031015,
     "end_time": "2023-08-08T20:23:54.595963",
     "exception": false,
     "start_time": "2023-08-08T20:23:54.564948",
     "status": "completed"
    },
    "tags": []
   },
   "source": [
    "**Logistic Regression** is a statistical and machine learning algorithm used for binary classification tasks. Despite its name, it is primarily used for classification, not regression. The model is called \"logistic\" because it uses the logistic function (also known as the sigmoid function) to model the relationship between the features and the binary outcome"
   ]
  },
  {
   "cell_type": "code",
   "execution_count": 36,
   "id": "a55b1b96",
   "metadata": {
    "execution": {
     "iopub.execute_input": "2023-08-08T20:23:54.664551Z",
     "iopub.status.busy": "2023-08-08T20:23:54.663405Z",
     "iopub.status.idle": "2023-08-08T20:29:57.327673Z",
     "shell.execute_reply": "2023-08-08T20:29:57.326199Z"
    },
    "papermill": {
     "duration": 362.701461,
     "end_time": "2023-08-08T20:29:57.330424",
     "exception": false,
     "start_time": "2023-08-08T20:23:54.628963",
     "status": "completed"
    },
    "tags": []
   },
   "outputs": [
    {
     "name": "stdout",
     "output_type": "stream",
     "text": [
      "0.8699829500944657\n",
      "0.8216085033177685\n",
      "\n",
      "Confusion Matrix: On Baseline Model\n",
      "[[ 7066  3630]\n",
      " [ 2177 19679]]\n"
     ]
    }
   ],
   "source": [
    "from sklearn.linear_model import LogisticRegression\n",
    "from sklearn.metrics import classification_report,confusion_matrix, accuracy_score\n",
    "\n",
    "#Logistic Regression Model\n",
    "baseline_model = LogisticRegression()\n",
    "\n",
    "#Hyperparameter tuning\n",
    "param_grid = {\n",
    "    'C': [ 0.1, 0.5, 1, 10],  # Regularization parameter\n",
    "    'penalty': ['l1', 'l2']  #  Regularization type ('l1' = Lasso, 'l2' = Ridge)\n",
    "}\n",
    "grid_search = GridSearchCV(baseline_model, param_grid, cv=7)\n",
    "grid_search.fit(X_train, y_train)\n",
    "\n",
    "baseline_model = grid_search.best_estimator_\n",
    "\n",
    "# Model evaluation\n",
    "y_pred = baseline_model.predict(X_test)  \n",
    "\n",
    "print(baseline_model.score(X_train,y_train))\n",
    "print(baseline_model.score(X_test,y_test))\n",
    "print(\"\")\n",
    "conf_matrix = confusion_matrix(y_test, y_pred)\n",
    "print(\"Confusion Matrix: On Baseline Model\")\n",
    "print(conf_matrix)\n"
   ]
  },
  {
   "cell_type": "code",
   "execution_count": 37,
   "id": "2a9029fe",
   "metadata": {
    "execution": {
     "iopub.execute_input": "2023-08-08T20:29:57.399907Z",
     "iopub.status.busy": "2023-08-08T20:29:57.399194Z",
     "iopub.status.idle": "2023-08-08T20:30:00.170363Z",
     "shell.execute_reply": "2023-08-08T20:30:00.169143Z"
    },
    "papermill": {
     "duration": 2.81037,
     "end_time": "2023-08-08T20:30:00.173372",
     "exception": false,
     "start_time": "2023-08-08T20:29:57.363002",
     "status": "completed"
    },
    "tags": []
   },
   "outputs": [
    {
     "name": "stdout",
     "output_type": "stream",
     "text": [
      "Classification Report: On Baseline Model\n",
      "              precision    recall  f1-score   support\n",
      "\n",
      "    NEGATIVE       0.76      0.66      0.71     10696\n",
      "    POSITIVE       0.84      0.90      0.87     21856\n",
      "\n",
      "    accuracy                           0.82     32552\n",
      "   macro avg       0.80      0.78      0.79     32552\n",
      "weighted avg       0.82      0.82      0.82     32552\n",
      "\n"
     ]
    }
   ],
   "source": [
    "print(\"Classification Report: On Baseline Model\")\n",
    "print(classification_report(y_test, y_pred))"
   ]
  },
  {
   "cell_type": "markdown",
   "id": "ded6c3f4",
   "metadata": {
    "papermill": {
     "duration": 0.034573,
     "end_time": "2023-08-08T20:30:00.240667",
     "exception": false,
     "start_time": "2023-08-08T20:30:00.206094",
     "status": "completed"
    },
    "tags": []
   },
   "source": [
    "* **ROC AUC** [Receiver Operating Characteristic Area Under the Curve] is a single scalar value that represents the overall performance of the model across all classification thresholds.\n",
    "* A higher ROC AUC score indicates better performance and better discrimination between positive and negative classes."
   ]
  },
  {
   "cell_type": "code",
   "execution_count": 38,
   "id": "01914e81",
   "metadata": {
    "execution": {
     "iopub.execute_input": "2023-08-08T20:30:00.315280Z",
     "iopub.status.busy": "2023-08-08T20:30:00.314800Z",
     "iopub.status.idle": "2023-08-08T20:30:00.790203Z",
     "shell.execute_reply": "2023-08-08T20:30:00.788159Z"
    },
    "papermill": {
     "duration": 0.518759,
     "end_time": "2023-08-08T20:30:00.793225",
     "exception": false,
     "start_time": "2023-08-08T20:30:00.274466",
     "status": "completed"
    },
    "tags": []
   },
   "outputs": [
    {
     "data": {
      "image/png": "[encoded data removed]",
      "text/plain": [
       "<Figure size 640x480 with 1 Axes>"
      ]
     },
     "metadata": {},
     "output_type": "display_data"
    },
    {
     "name": "stdout",
     "output_type": "stream",
     "text": [
      "AUC Score: 0.7805071387231963\n"
     ]
    }
   ],
   "source": [
    "from sklearn.metrics import roc_curve, auc, roc_auc_score\n",
    "# Convert categorical sentiment labels to binary values (1 for POSITIVE, 0 for NEGATIVE)\n",
    "y_test_binary = np.where(y_test == 'POSITIVE', 1, 0)\n",
    "y_pred_binary = np.where(y_pred == 'POSITIVE', 1, 0)\n",
    "\n",
    "# Calculate ROC curve and AUC\n",
    "fpr, tpr, thresholds = roc_curve(y_test_binary, y_pred_binary)\n",
    "roc_auc = auc(fpr, tpr)\n",
    "\n",
    "# Plot the ROC curve\n",
    "plt.figure()\n",
    "plt.plot(fpr, tpr, color='darkorange', lw=2, label='ROC curve (area = {:.2f})'.format(roc_auc))\n",
    "plt.plot([0, 1], [0, 1], color='navy', lw=2, linestyle='--')\n",
    "plt.xlim([0.0, 1.0])\n",
    "plt.ylim([0.0, 1.05])\n",
    "plt.xlabel('False Positive Rate')\n",
    "plt.ylabel('True Positive Rate')\n",
    "plt.title('Receiver Operating Characteristic (ROC) Curve')\n",
    "plt.legend(loc='lower right')\n",
    "plt.show()\n",
    "\n",
    "# Calculate AUC score using roc_auc_score\n",
    "auc_score = roc_auc_score(y_test_binary, y_pred_binary)\n",
    "print(\"AUC Score:\", auc_score)"
   ]
  },
  {
   "cell_type": "markdown",
   "id": "2471333a",
   "metadata": {
    "papermill": {
     "duration": 0.033774,
     "end_time": "2023-08-08T20:30:00.860595",
     "exception": false,
     "start_time": "2023-08-08T20:30:00.826821",
     "status": "completed"
    },
    "tags": []
   },
   "source": [
    "# Model 02: Naive Bayes classifier Model"
   ]
  },
  {
   "cell_type": "markdown",
   "id": "dac14175",
   "metadata": {
    "papermill": {
     "duration": 0.033069,
     "end_time": "2023-08-08T20:30:00.928505",
     "exception": false,
     "start_time": "2023-08-08T20:30:00.895436",
     "status": "completed"
    },
    "tags": []
   },
   "source": [
    "The Naive Bayes classifier model works by using Bayes' theorem to make predictions on new, unseen data. It is a probabilistic classifier that assigns class labels to instances based on the probabilities of the features given each class. The classifier assumes that all features are conditionally independent given the class label, which simplifies the probability calculations and makes the algorithm computationally efficient."
   ]
  },
  {
   "cell_type": "code",
   "execution_count": 39,
   "id": "a6d60a16",
   "metadata": {
    "execution": {
     "iopub.execute_input": "2023-08-08T20:30:00.997934Z",
     "iopub.status.busy": "2023-08-08T20:30:00.997515Z",
     "iopub.status.idle": "2023-08-08T20:30:24.901520Z",
     "shell.execute_reply": "2023-08-08T20:30:24.900063Z"
    },
    "papermill": {
     "duration": 23.941915,
     "end_time": "2023-08-08T20:30:24.904537",
     "exception": false,
     "start_time": "2023-08-08T20:30:00.962622",
     "status": "completed"
    },
    "tags": []
   },
   "outputs": [
    {
     "name": "stdout",
     "output_type": "stream",
     "text": [
      "\n",
      "Classification Report:On Naive Bayes Model\n",
      "              precision    recall  f1-score   support\n",
      "\n",
      "    NEGATIVE       0.67      0.56      0.61     10696\n",
      "    POSITIVE       0.80      0.87      0.83     21856\n",
      "\n",
      "    accuracy                           0.77     32552\n",
      "   macro avg       0.74      0.71      0.72     32552\n",
      "weighted avg       0.76      0.77      0.76     32552\n",
      "\n"
     ]
    }
   ],
   "source": [
    "from sklearn.naive_bayes import MultinomialNB\n",
    "\n",
    "# Create and train the Naive Bayes classifier\n",
    "naive_bayes_classifier = MultinomialNB()\n",
    "\n",
    "#Hyperparameter tuning\n",
    "param_grid={\n",
    "    'alpha':[0.1,1.0,2.0]\n",
    "}\n",
    "\n",
    "grid_search = GridSearchCV(naive_bayes_classifier,param_grid,cv=7)\n",
    "grid_search.fit(X_train, y_train)\n",
    "naive_bayes_classifier.fit(X_train, y_train)\n",
    "\n",
    "naive_bayes_classifier=grid_search.best_estimator_\n",
    "\n",
    "# Make predictions on the test set\n",
    "y_pred = naive_bayes_classifier.predict(X_test)\n",
    "\n",
    "print(\"\\nClassification Report:On Naive Bayes Model\")\n",
    "print(classification_report(y_test, y_pred))\n"
   ]
  },
  {
   "cell_type": "code",
   "execution_count": 40,
   "id": "b34bf63e",
   "metadata": {
    "execution": {
     "iopub.execute_input": "2023-08-08T20:30:24.973923Z",
     "iopub.status.busy": "2023-08-08T20:30:24.973521Z",
     "iopub.status.idle": "2023-08-08T20:30:25.246533Z",
     "shell.execute_reply": "2023-08-08T20:30:25.244902Z"
    },
    "papermill": {
     "duration": 0.310963,
     "end_time": "2023-08-08T20:30:25.249699",
     "exception": false,
     "start_time": "2023-08-08T20:30:24.938736",
     "status": "completed"
    },
    "tags": []
   },
   "outputs": [
    {
     "name": "stdout",
     "output_type": "stream",
     "text": [
      "Confusion Matrix: On Naive Bayes Model\n",
      "[[ 5988  4708]\n",
      " [ 2901 18955]]\n"
     ]
    }
   ],
   "source": [
    "conf_matrix = confusion_matrix(y_test, y_pred)\n",
    "print(\"Confusion Matrix: On Naive Bayes Model\")\n",
    "print(conf_matrix)"
   ]
  },
  {
   "cell_type": "code",
   "execution_count": 41,
   "id": "523c5981",
   "metadata": {
    "execution": {
     "iopub.execute_input": "2023-08-08T20:30:25.320098Z",
     "iopub.status.busy": "2023-08-08T20:30:25.319677Z",
     "iopub.status.idle": "2023-08-08T20:30:25.777789Z",
     "shell.execute_reply": "2023-08-08T20:30:25.776211Z"
    },
    "papermill": {
     "duration": 0.497078,
     "end_time": "2023-08-08T20:30:25.780555",
     "exception": false,
     "start_time": "2023-08-08T20:30:25.283477",
     "status": "completed"
    },
    "tags": []
   },
   "outputs": [
    {
     "data": {
      "image/png": "[encoded data removed]",
      "text/plain": [
       "<Figure size 640x480 with 1 Axes>"
      ]
     },
     "metadata": {},
     "output_type": "display_data"
    },
    {
     "name": "stdout",
     "output_type": "stream",
     "text": [
      "AUC Score: 0.7135515110258648\n"
     ]
    }
   ],
   "source": [
    "# Convert categorical sentiment labels to binary values (1 for POSITIVE, 0 for NEGATIVE)\n",
    "y_test_binary = np.where(y_test == 'POSITIVE', 1, 0)\n",
    "y_pred_binary = np.where(y_pred == 'POSITIVE', 1, 0)\n",
    "\n",
    "# Calculate ROC curve and AUC\n",
    "fpr, tpr, thresholds = roc_curve(y_test_binary, y_pred_binary)\n",
    "roc_auc = auc(fpr, tpr)\n",
    "\n",
    "# Plot the ROC curve\n",
    "plt.figure()\n",
    "plt.plot(fpr, tpr, color='darkorange', lw=2, label='ROC curve (area = {:.2f})'.format(roc_auc))\n",
    "plt.plot([0, 1], [0, 1], color='navy', lw=2, linestyle='--')\n",
    "plt.xlim([0.0, 1.0])\n",
    "plt.ylim([0.0, 1.05])\n",
    "plt.xlabel('False Positive Rate')\n",
    "plt.ylabel('True Positive Rate')\n",
    "plt.title('Receiver Operating Characteristic (ROC) Curve Using Naive Bayes without tuning')\n",
    "plt.legend(loc='lower right')\n",
    "plt.show()\n",
    "\n",
    "# Calculate AUC score using roc_auc_score\n",
    "auc_score = roc_auc_score(y_test_binary, y_pred_binary)\n",
    "print(\"AUC Score:\", auc_score)"
   ]
  },
  {
   "cell_type": "markdown",
   "id": "8850cf74",
   "metadata": {
    "papermill": {
     "duration": 0.034578,
     "end_time": "2023-08-08T20:30:25.849713",
     "exception": false,
     "start_time": "2023-08-08T20:30:25.815135",
     "status": "completed"
    },
    "tags": []
   },
   "source": [
    "# Model 03: LinearSVC Model"
   ]
  },
  {
   "cell_type": "markdown",
   "id": "944590bc",
   "metadata": {
    "papermill": {
     "duration": 0.033506,
     "end_time": "2023-08-08T20:30:25.917653",
     "exception": false,
     "start_time": "2023-08-08T20:30:25.884147",
     "status": "completed"
    },
    "tags": []
   },
   "source": [
    "**LinearSVC** stands for Linear Support Vector Classification. It is a variant of the Support Vector Machine (SVM) algorithm designed for binary classification tasks. \n",
    "\n",
    "**Linear Classifier**: LinearSVC builds a linear classifier by finding the hyperplane that best separates the two classes in the feature space. The hyperplane is a decision boundary that maximizes the margin between the two classes, making it a good classifier for linearly separable data. It uses **hinge** loss as a loss function."
   ]
  },
  {
   "cell_type": "code",
   "execution_count": 42,
   "id": "dd1ef4d7",
   "metadata": {
    "execution": {
     "iopub.execute_input": "2023-08-08T20:30:25.988263Z",
     "iopub.status.busy": "2023-08-08T20:30:25.987833Z",
     "iopub.status.idle": "2023-08-08T20:43:56.359332Z",
     "shell.execute_reply": "2023-08-08T20:43:56.357444Z"
    },
    "papermill": {
     "duration": 810.444798,
     "end_time": "2023-08-08T20:43:56.396810",
     "exception": false,
     "start_time": "2023-08-08T20:30:25.952012",
     "status": "completed"
    },
    "tags": []
   },
   "outputs": [
    {
     "name": "stdout",
     "output_type": "stream",
     "text": [
      " Model Accuracy: 0.8224072253624969\n"
     ]
    }
   ],
   "source": [
    "from sklearn.svm import LinearSVC\n",
    "# Create an instance of the LinearSVC\n",
    "linear_svc = LinearSVC()\n",
    "\n",
    "# Define hyperparameters to tune\n",
    "param_grid = {\n",
    "    'C': [0.001, 0.01, 0.1, 1, 10, 100],\n",
    "    'loss': ['hinge', 'squared_hinge'],\n",
    "    'penalty': ['l1', 'l2'],\n",
    "}\n",
    "\n",
    "# Perform grid search with 5-fold cross-validation\n",
    "grid_search = GridSearchCV(linear_svc, param_grid, cv=5)\n",
    "grid_search.fit(X_train, y_train)\n",
    "\n",
    "# Get the best parameters and model\n",
    "best_params = grid_search.best_params_\n",
    "best_model = grid_search.best_estimator_\n",
    "\n",
    "# Make predictions on the test set using the best model\n",
    "y_pred = best_model.predict(X_test)\n",
    "\n",
    "# Calculate accuracy\n",
    "accuracy = accuracy_score(y_test, y_pred)\n",
    "print(\" Model Accuracy:\",accuracy)\n"
   ]
  },
  {
   "cell_type": "code",
   "execution_count": 43,
   "id": "523ac3d6",
   "metadata": {
    "execution": {
     "iopub.execute_input": "2023-08-08T20:43:56.544651Z",
     "iopub.status.busy": "2023-08-08T20:43:56.543849Z",
     "iopub.status.idle": "2023-08-08T20:43:59.320217Z",
     "shell.execute_reply": "2023-08-08T20:43:59.318781Z"
    },
    "papermill": {
     "duration": 2.891822,
     "end_time": "2023-08-08T20:43:59.322692",
     "exception": false,
     "start_time": "2023-08-08T20:43:56.430870",
     "status": "completed"
    },
    "tags": []
   },
   "outputs": [
    {
     "name": "stdout",
     "output_type": "stream",
     "text": [
      "Classification Report: on LinearSVC Model\n",
      "              precision    recall  f1-score   support\n",
      "\n",
      "    NEGATIVE       0.77      0.66      0.71     10696\n",
      "    POSITIVE       0.84      0.90      0.87     21856\n",
      "\n",
      "    accuracy                           0.82     32552\n",
      "   macro avg       0.81      0.78      0.79     32552\n",
      "weighted avg       0.82      0.82      0.82     32552\n",
      "\n"
     ]
    }
   ],
   "source": [
    "# Generate a classification report\n",
    "classification_report = classification_report(y_test, y_pred)\n",
    "print(\"Classification Report: on LinearSVC Model\")\n",
    "print(classification_report)"
   ]
  },
  {
   "cell_type": "code",
   "execution_count": 44,
   "id": "5feca0e9",
   "metadata": {
    "execution": {
     "iopub.execute_input": "2023-08-08T20:43:59.394246Z",
     "iopub.status.busy": "2023-08-08T20:43:59.393771Z",
     "iopub.status.idle": "2023-08-08T20:43:59.842896Z",
     "shell.execute_reply": "2023-08-08T20:43:59.841616Z"
    },
    "papermill": {
     "duration": 0.488076,
     "end_time": "2023-08-08T20:43:59.845544",
     "exception": false,
     "start_time": "2023-08-08T20:43:59.357468",
     "status": "completed"
    },
    "tags": []
   },
   "outputs": [
    {
     "data": {
      "image/png": "[encoded data removed]",
      "text/plain": [
       "<Figure size 640x480 with 1 Axes>"
      ]
     },
     "metadata": {},
     "output_type": "display_data"
    },
    {
     "name": "stdout",
     "output_type": "stream",
     "text": [
      "AUC Score: 0.7805768135157598\n"
     ]
    }
   ],
   "source": [
    "# Convert categorical sentiment labels to binary values (1 for POSITIVE, 0 for NEGATIVE)\n",
    "y_test_binary = np.where(y_test == 'POSITIVE', 1, 0)\n",
    "y_pred_binary = np.where(y_pred == 'POSITIVE', 1, 0)\n",
    "\n",
    "# Calculate ROC curve and AUC\n",
    "fpr, tpr, thresholds = roc_curve(y_test_binary, y_pred_binary)\n",
    "roc_auc = auc(fpr, tpr)\n",
    "\n",
    "# Plot the ROC curve\n",
    "plt.figure()\n",
    "plt.plot(fpr, tpr, color='darkorange', lw=2, label='ROC curve (area = {:.2f})'.format(roc_auc))\n",
    "plt.plot([0, 1], [0, 1], color='navy', lw=2, linestyle='--')\n",
    "plt.xlim([0.0, 1.0])\n",
    "plt.ylim([0.0, 1.05])\n",
    "plt.xlabel('False Positive Rate')\n",
    "plt.ylabel('True Positive Rate')\n",
    "plt.title('Receiver Operating Characteristic (ROC) Curve Using Naive Bayes without tuning')\n",
    "plt.legend(loc='lower right')\n",
    "plt.show()\n",
    "\n",
    "# Calculate AUC score using roc_auc_score\n",
    "auc_score = roc_auc_score(y_test_binary, y_pred_binary)\n",
    "print(\"AUC Score:\", auc_score)"
   ]
  },
  {
   "cell_type": "markdown",
   "id": "48e3c7c6",
   "metadata": {
    "papermill": {
     "duration": 0.050768,
     "end_time": "2023-08-08T20:43:59.935448",
     "exception": false,
     "start_time": "2023-08-08T20:43:59.884680",
     "status": "completed"
    },
    "tags": []
   },
   "source": [
    "# **Summary : Models Evaluation**"
   ]
  },
  {
   "cell_type": "code",
   "execution_count": 45,
   "id": "a1f81f0d",
   "metadata": {
    "execution": {
     "iopub.execute_input": "2023-08-08T20:44:00.016534Z",
     "iopub.status.busy": "2023-08-08T20:44:00.016149Z",
     "iopub.status.idle": "2023-08-08T20:44:00.044725Z",
     "shell.execute_reply": "2023-08-08T20:44:00.043149Z"
    },
    "papermill": {
     "duration": 0.068052,
     "end_time": "2023-08-08T20:44:00.047739",
     "exception": false,
     "start_time": "2023-08-08T20:43:59.979687",
     "status": "completed"
    },
    "tags": []
   },
   "outputs": [
    {
     "data": {
      "text/html": [
       "<div>\n",
       "<style scoped>\n",
       "    .dataframe tbody tr th:only-of-type {\n",
       "        vertical-align: middle;\n",
       "    }\n",
       "\n",
       "    .dataframe tbody tr th {\n",
       "        vertical-align: top;\n",
       "    }\n",
       "\n",
       "    .dataframe thead th {\n",
       "        text-align: right;\n",
       "    }\n",
       "</style>\n",
       "<table border=\"1\" class=\"dataframe\">\n",
       "  <thead>\n",
       "    <tr style=\"text-align: right;\">\n",
       "      <th></th>\n",
       "      <th>Model</th>\n",
       "      <th>Accuracy</th>\n",
       "      <th>Precision (Negative)</th>\n",
       "      <th>Precision (Positive)</th>\n",
       "      <th>Recall (Negative)</th>\n",
       "      <th>Recall (Positive)</th>\n",
       "      <th>F1-score (Negative)</th>\n",
       "      <th>F1-score (Positive)</th>\n",
       "      <th>Support (Negative)</th>\n",
       "      <th>Support (Positive)</th>\n",
       "      <th>AUC Score</th>\n",
       "    </tr>\n",
       "  </thead>\n",
       "  <tbody>\n",
       "    <tr>\n",
       "      <th>0</th>\n",
       "      <td>Baseline</td>\n",
       "      <td>0.80</td>\n",
       "      <td>0.72</td>\n",
       "      <td>0.84</td>\n",
       "      <td>0.65</td>\n",
       "      <td>0.87</td>\n",
       "      <td>0.68</td>\n",
       "      <td>0.85</td>\n",
       "      <td>10696</td>\n",
       "      <td>21856</td>\n",
       "      <td>0.76</td>\n",
       "    </tr>\n",
       "    <tr>\n",
       "      <th>1</th>\n",
       "      <td>Naive Bayes</td>\n",
       "      <td>0.78</td>\n",
       "      <td>0.72</td>\n",
       "      <td>0.79</td>\n",
       "      <td>0.52</td>\n",
       "      <td>0.90</td>\n",
       "      <td>0.60</td>\n",
       "      <td>0.84</td>\n",
       "      <td>10696</td>\n",
       "      <td>21856</td>\n",
       "      <td>0.71</td>\n",
       "    </tr>\n",
       "    <tr>\n",
       "      <th>2</th>\n",
       "      <td>LinearSVC</td>\n",
       "      <td>0.79</td>\n",
       "      <td>0.76</td>\n",
       "      <td>0.82</td>\n",
       "      <td>0.58</td>\n",
       "      <td>0.91</td>\n",
       "      <td>0.75</td>\n",
       "      <td>0.80</td>\n",
       "      <td>10696</td>\n",
       "      <td>21856</td>\n",
       "      <td>0.75</td>\n",
       "    </tr>\n",
       "  </tbody>\n",
       "</table>\n",
       "</div>"
      ],
      "text/plain": [
       "         Model  Accuracy  Precision (Negative)  Precision (Positive)  \\\n",
       "0     Baseline      0.80                  0.72                  0.84   \n",
       "1  Naive Bayes      0.78                  0.72                  0.79   \n",
       "2    LinearSVC      0.79                  0.76                  0.82   \n",
       "\n",
       "   Recall (Negative)  Recall (Positive)  F1-score (Negative)  \\\n",
       "0               0.65               0.87                 0.68   \n",
       "1               0.52               0.90                 0.60   \n",
       "2               0.58               0.91                 0.75   \n",
       "\n",
       "   F1-score (Positive)  Support (Negative)  Support (Positive)  AUC Score  \n",
       "0                 0.85               10696               21856       0.76  \n",
       "1                 0.84               10696               21856       0.71  \n",
       "2                 0.80               10696               21856       0.75  "
      ]
     },
     "execution_count": 45,
     "metadata": {},
     "output_type": "execute_result"
    }
   ],
   "source": [
    "# Create a dictionary for the data\n",
    "data = {\n",
    "    'Model': ['Baseline', 'Naive Bayes', 'LinearSVC'],\n",
    "    'Accuracy': [0.80, 0.78, 0.79],\n",
    "    'Precision (Negative)': [0.72, 0.72, 0.76],\n",
    "    'Precision (Positive)': [0.84, 0.79, 0.82],\n",
    "    'Recall (Negative)': [0.65, 0.52, 0.58],\n",
    "    'Recall (Positive)': [0.87, 0.90, 0.91],\n",
    "    'F1-score (Negative)': [0.68, 0.60, 0.75],\n",
    "    'F1-score (Positive)': [0.85, 0.84, 0.80],\n",
    "    'Support (Negative)': [10696, 10696, 10696],\n",
    "    'Support (Positive)': [21856, 21856, 21856],\n",
    "    'AUC Score': [0.76, 0.71, 0.75]\n",
    "}\n",
    "\n",
    "# Create a DataFrame from the dictionary\n",
    "df = pd.DataFrame(data)\n",
    "\n",
    "# Print the DataFrame\n",
    "df\n"
   ]
  },
  {
   "cell_type": "markdown",
   "id": "a95a492b",
   "metadata": {
    "papermill": {
     "duration": 0.03759,
     "end_time": "2023-08-08T20:44:00.122796",
     "exception": false,
     "start_time": "2023-08-08T20:44:00.085206",
     "status": "completed"
    },
    "tags": []
   },
   "source": [
    "**Observation** : **Baseline** (Logistic Regression) model gives more accuracy and more AUC score than all othe model. "
   ]
  },
  {
   "cell_type": "markdown",
   "id": "532799d2",
   "metadata": {
    "papermill": {
     "duration": 0.036567,
     "end_time": "2023-08-08T20:44:00.195857",
     "exception": false,
     "start_time": "2023-08-08T20:44:00.159290",
     "status": "completed"
    },
    "tags": []
   },
   "source": [
    "# **Prediction on Test Data for Submission**"
   ]
  },
  {
   "cell_type": "code",
   "execution_count": 46,
   "id": "69c75f49",
   "metadata": {
    "execution": {
     "iopub.execute_input": "2023-08-08T20:44:00.272455Z",
     "iopub.status.busy": "2023-08-08T20:44:00.271635Z",
     "iopub.status.idle": "2023-08-08T20:44:00.663324Z",
     "shell.execute_reply": "2023-08-08T20:44:00.662132Z"
    },
    "papermill": {
     "duration": 0.432833,
     "end_time": "2023-08-08T20:44:00.666059",
     "exception": false,
     "start_time": "2023-08-08T20:44:00.233226",
     "status": "completed"
    },
    "tags": []
   },
   "outputs": [
    {
     "data": {
      "text/html": [
       "<div>\n",
       "<style scoped>\n",
       "    .dataframe tbody tr th:only-of-type {\n",
       "        vertical-align: middle;\n",
       "    }\n",
       "\n",
       "    .dataframe tbody tr th {\n",
       "        vertical-align: top;\n",
       "    }\n",
       "\n",
       "    .dataframe thead th {\n",
       "        text-align: right;\n",
       "    }\n",
       "</style>\n",
       "<table border=\"1\" class=\"dataframe\">\n",
       "  <thead>\n",
       "    <tr style=\"text-align: right;\">\n",
       "      <th></th>\n",
       "      <th>movieid</th>\n",
       "      <th>reviewerName</th>\n",
       "      <th>isTopCritic</th>\n",
       "      <th>reviewText</th>\n",
       "    </tr>\n",
       "  </thead>\n",
       "  <tbody>\n",
       "    <tr>\n",
       "      <th>0</th>\n",
       "      <td>legend_marty_mcfly_oracle</td>\n",
       "      <td>John Kim</td>\n",
       "      <td>False</td>\n",
       "      <td>Green slowly cranks up the dread with style an...</td>\n",
       "    </tr>\n",
       "    <tr>\n",
       "      <th>1</th>\n",
       "      <td>terminator_katniss_everdeen_glimmer</td>\n",
       "      <td>Brian Chaney</td>\n",
       "      <td>False</td>\n",
       "      <td>Philip Noyce's direction is elegant and unforc...</td>\n",
       "    </tr>\n",
       "    <tr>\n",
       "      <th>2</th>\n",
       "      <td>james_bond_labyrinth_gollum</td>\n",
       "      <td>Danielle Parker</td>\n",
       "      <td>False</td>\n",
       "      <td>It wouldn't do to say what path Maria ultimate...</td>\n",
       "    </tr>\n",
       "    <tr>\n",
       "      <th>3</th>\n",
       "      <td>v_quest_han_solo_wondrous</td>\n",
       "      <td>Brittany Lane</td>\n",
       "      <td>False</td>\n",
       "      <td>Pig is not exactly the arthouse John Wick that...</td>\n",
       "    </tr>\n",
       "    <tr>\n",
       "      <th>4</th>\n",
       "      <td>enigma_hulk_surreal_starlight</td>\n",
       "      <td>Justin Willis</td>\n",
       "      <td>False</td>\n",
       "      <td>An imaginative no-budget musical of sorts abou...</td>\n",
       "    </tr>\n",
       "    <tr>\n",
       "      <th>5</th>\n",
       "      <td>infinite_elegant_ellen_ripley</td>\n",
       "      <td>Carla Guzman</td>\n",
       "      <td>False</td>\n",
       "      <td>Life happens... live it one day at a time and ...</td>\n",
       "    </tr>\n",
       "    <tr>\n",
       "      <th>6</th>\n",
       "      <td>travis_bickle_the_joker</td>\n",
       "      <td>Kathy Wade</td>\n",
       "      <td>False</td>\n",
       "      <td>You can't hire a judge without breaking a few ...</td>\n",
       "    </tr>\n",
       "    <tr>\n",
       "      <th>7</th>\n",
       "      <td>jack_torrance_legendary_scarlett_o'hara_phantom</td>\n",
       "      <td>Diana Black</td>\n",
       "      <td>False</td>\n",
       "      <td>certainly rivals con-film king Mamet for the c...</td>\n",
       "    </tr>\n",
       "    <tr>\n",
       "      <th>8</th>\n",
       "      <td>rick_blaine_neo_mr._miyagi</td>\n",
       "      <td>Hunter Castillo</td>\n",
       "      <td>False</td>\n",
       "      <td>&amp;apos;Avatar&amp;apos; was about a clash of civili...</td>\n",
       "    </tr>\n",
       "    <tr>\n",
       "      <th>9</th>\n",
       "      <td>the_joker_hannibal_lecter_destiny_tony_montana</td>\n",
       "      <td>Shawn Bautista</td>\n",
       "      <td>False</td>\n",
       "      <td>Rock of Ages is a soundtrack with a visual com...</td>\n",
       "    </tr>\n",
       "  </tbody>\n",
       "</table>\n",
       "</div>"
      ],
      "text/plain": [
       "                                           movieid     reviewerName  \\\n",
       "0                        legend_marty_mcfly_oracle         John Kim   \n",
       "1              terminator_katniss_everdeen_glimmer     Brian Chaney   \n",
       "2                      james_bond_labyrinth_gollum  Danielle Parker   \n",
       "3                        v_quest_han_solo_wondrous    Brittany Lane   \n",
       "4                    enigma_hulk_surreal_starlight    Justin Willis   \n",
       "5                    infinite_elegant_ellen_ripley     Carla Guzman   \n",
       "6                          travis_bickle_the_joker       Kathy Wade   \n",
       "7  jack_torrance_legendary_scarlett_o'hara_phantom      Diana Black   \n",
       "8                       rick_blaine_neo_mr._miyagi  Hunter Castillo   \n",
       "9   the_joker_hannibal_lecter_destiny_tony_montana   Shawn Bautista   \n",
       "\n",
       "   isTopCritic                                         reviewText  \n",
       "0        False  Green slowly cranks up the dread with style an...  \n",
       "1        False  Philip Noyce's direction is elegant and unforc...  \n",
       "2        False  It wouldn't do to say what path Maria ultimate...  \n",
       "3        False  Pig is not exactly the arthouse John Wick that...  \n",
       "4        False  An imaginative no-budget musical of sorts abou...  \n",
       "5        False  Life happens... live it one day at a time and ...  \n",
       "6        False  You can't hire a judge without breaking a few ...  \n",
       "7        False  certainly rivals con-film king Mamet for the c...  \n",
       "8        False  &apos;Avatar&apos; was about a clash of civili...  \n",
       "9        False  Rock of Ages is a soundtrack with a visual com...  "
      ]
     },
     "execution_count": 46,
     "metadata": {},
     "output_type": "execute_result"
    }
   ],
   "source": [
    "test=pd.read_csv('/kaggle/input/sentiment-prediction-on-movie-reviews/test.csv')\n",
    "test.head(10)"
   ]
  },
  {
   "cell_type": "code",
   "execution_count": 47,
   "id": "207b90c6",
   "metadata": {
    "execution": {
     "iopub.execute_input": "2023-08-08T20:44:00.741796Z",
     "iopub.status.busy": "2023-08-08T20:44:00.741098Z",
     "iopub.status.idle": "2023-08-08T20:44:00.913156Z",
     "shell.execute_reply": "2023-08-08T20:44:00.911475Z"
    },
    "papermill": {
     "duration": 0.213109,
     "end_time": "2023-08-08T20:44:00.916140",
     "exception": false,
     "start_time": "2023-08-08T20:44:00.703031",
     "status": "completed"
    },
    "tags": []
   },
   "outputs": [
    {
     "data": {
      "text/plain": [
       "(55315, 17)"
      ]
     },
     "execution_count": 47,
     "metadata": {},
     "output_type": "execute_result"
    }
   ],
   "source": [
    "test_data=pd.merge(test,movie_data,on='movieid',how='left')\n",
    "test_data.shape"
   ]
  },
  {
   "cell_type": "code",
   "execution_count": 48,
   "id": "41fcd00d",
   "metadata": {
    "execution": {
     "iopub.execute_input": "2023-08-08T20:44:00.994974Z",
     "iopub.status.busy": "2023-08-08T20:44:00.994576Z",
     "iopub.status.idle": "2023-08-08T20:44:01.270289Z",
     "shell.execute_reply": "2023-08-08T20:44:01.268446Z"
    },
    "papermill": {
     "duration": 0.3176,
     "end_time": "2023-08-08T20:44:01.273392",
     "exception": false,
     "start_time": "2023-08-08T20:44:00.955792",
     "status": "completed"
    },
    "tags": []
   },
   "outputs": [
    {
     "name": "stdout",
     "output_type": "stream",
     "text": [
      "<class 'pandas.core.frame.DataFrame'>\n",
      "Int64Index: 55315 entries, 0 to 55314\n",
      "Data columns (total 17 columns):\n",
      " #   Column                Non-Null Count  Dtype  \n",
      "---  ------                --------------  -----  \n",
      " 0   movieid               55315 non-null  object \n",
      " 1   reviewerName          55315 non-null  object \n",
      " 2   isTopCritic           55315 non-null  bool   \n",
      " 3   reviewText            52805 non-null  object \n",
      " 4   title                 55315 non-null  object \n",
      " 5   audienceScore         50384 non-null  float64\n",
      " 6   rating                31019 non-null  object \n",
      " 7   ratingContents        31019 non-null  object \n",
      " 8   releaseDateTheaters   41613 non-null  object \n",
      " 9   releaseDateStreaming  49341 non-null  object \n",
      " 10  runtimeMinutes        54053 non-null  float64\n",
      " 11  genre                 54395 non-null  object \n",
      " 12  originalLanguage      54077 non-null  object \n",
      " 13  director              55315 non-null  object \n",
      " 14  boxOffice             35320 non-null  object \n",
      " 15  distributor           39719 non-null  object \n",
      " 16  soundType             24689 non-null  object \n",
      "dtypes: bool(1), float64(2), object(14)\n",
      "memory usage: 7.2+ MB\n"
     ]
    }
   ],
   "source": [
    "test_data.info()"
   ]
  },
  {
   "cell_type": "code",
   "execution_count": 49,
   "id": "f92dc6f3",
   "metadata": {
    "execution": {
     "iopub.execute_input": "2023-08-08T20:44:01.349282Z",
     "iopub.status.busy": "2023-08-08T20:44:01.348372Z",
     "iopub.status.idle": "2023-08-08T20:44:01.618375Z",
     "shell.execute_reply": "2023-08-08T20:44:01.616750Z"
    },
    "papermill": {
     "duration": 0.311695,
     "end_time": "2023-08-08T20:44:01.621504",
     "exception": false,
     "start_time": "2023-08-08T20:44:01.309809",
     "status": "completed"
    },
    "tags": []
   },
   "outputs": [
    {
     "data": {
      "text/plain": [
       "movieid                     0\n",
       "reviewerName                0\n",
       "isTopCritic                 0\n",
       "reviewText                  0\n",
       "title                       0\n",
       "audienceScore            4931\n",
       "rating                  24296\n",
       "ratingContents          24296\n",
       "releaseDateTheaters     13702\n",
       "releaseDateStreaming     5974\n",
       "runtimeMinutes           1262\n",
       "genre                     920\n",
       "originalLanguage         1238\n",
       "director                    0\n",
       "boxOffice               19995\n",
       "distributor             15596\n",
       "soundType               30626\n",
       "dtype: int64"
      ]
     },
     "execution_count": 49,
     "metadata": {},
     "output_type": "execute_result"
    }
   ],
   "source": [
    "test_data['reviewText'].fillna('', inplace=True)\n",
    "\n",
    "test_data.isnull().sum()"
   ]
  },
  {
   "cell_type": "code",
   "execution_count": 50,
   "id": "36b5bb2b",
   "metadata": {
    "execution": {
     "iopub.execute_input": "2023-08-08T20:44:01.698186Z",
     "iopub.status.busy": "2023-08-08T20:44:01.697712Z",
     "iopub.status.idle": "2023-08-08T20:44:01.875924Z",
     "shell.execute_reply": "2023-08-08T20:44:01.874124Z"
    },
    "papermill": {
     "duration": 0.219892,
     "end_time": "2023-08-08T20:44:01.879190",
     "exception": false,
     "start_time": "2023-08-08T20:44:01.659298",
     "status": "completed"
    },
    "tags": []
   },
   "outputs": [
    {
     "name": "stdout",
     "output_type": "stream",
     "text": [
      "<class 'pandas.core.frame.DataFrame'>\n",
      "Int64Index: 55315 entries, 0 to 55314\n",
      "Data columns (total 9 columns):\n",
      " #   Column            Non-Null Count  Dtype  \n",
      "---  ------            --------------  -----  \n",
      " 0   reviewText        55315 non-null  object \n",
      " 1   originalLanguage  54077 non-null  object \n",
      " 2   genre             54395 non-null  object \n",
      " 3   runtimeMinutes    54053 non-null  float64\n",
      " 4   audienceScore     50384 non-null  float64\n",
      " 5   rating            31019 non-null  object \n",
      " 6   ratingContents    31019 non-null  object \n",
      " 7   distributor       39719 non-null  object \n",
      " 8   director          55315 non-null  object \n",
      "dtypes: float64(2), object(7)\n",
      "memory usage: 4.2+ MB\n"
     ]
    }
   ],
   "source": [
    "test_data=test_data[features]\n",
    "test_data.info()"
   ]
  },
  {
   "cell_type": "code",
   "execution_count": 51,
   "id": "2676910f",
   "metadata": {
    "execution": {
     "iopub.execute_input": "2023-08-08T20:44:01.960146Z",
     "iopub.status.busy": "2023-08-08T20:44:01.958867Z",
     "iopub.status.idle": "2023-08-08T20:44:04.266652Z",
     "shell.execute_reply": "2023-08-08T20:44:04.265172Z"
    },
    "papermill": {
     "duration": 2.353003,
     "end_time": "2023-08-08T20:44:04.269567",
     "exception": false,
     "start_time": "2023-08-08T20:44:01.916564",
     "status": "completed"
    },
    "tags": []
   },
   "outputs": [
    {
     "data": {
      "text/plain": [
       "(55315, 82045)"
      ]
     },
     "execution_count": 51,
     "metadata": {},
     "output_type": "execute_result"
    }
   ],
   "source": [
    "#applying feature extraction on test data using pipeline\n",
    "test1=preprocessor.transform(test_data)\n",
    "test1.shape"
   ]
  },
  {
   "cell_type": "code",
   "execution_count": 52,
   "id": "205ce92f",
   "metadata": {
    "execution": {
     "iopub.execute_input": "2023-08-08T20:44:04.347386Z",
     "iopub.status.busy": "2023-08-08T20:44:04.346779Z",
     "iopub.status.idle": "2023-08-08T20:44:04.361920Z",
     "shell.execute_reply": "2023-08-08T20:44:04.360647Z"
    },
    "papermill": {
     "duration": 0.058138,
     "end_time": "2023-08-08T20:44:04.364629",
     "exception": false,
     "start_time": "2023-08-08T20:44:04.306491",
     "status": "completed"
    },
    "tags": []
   },
   "outputs": [
    {
     "data": {
      "text/plain": [
       "array(['POSITIVE', 'POSITIVE', 'POSITIVE', ..., 'NEGATIVE', 'POSITIVE',\n",
       "       'NEGATIVE'], dtype=object)"
      ]
     },
     "execution_count": 52,
     "metadata": {},
     "output_type": "execute_result"
    }
   ],
   "source": [
    "#Applying Models for prediction on text data\n",
    "new_reviews_pred=best_model.predict(test1)\n",
    "new_reviews_pred"
   ]
  },
  {
   "cell_type": "code",
   "execution_count": 53,
   "id": "332b8f9d",
   "metadata": {
    "execution": {
     "iopub.execute_input": "2023-08-08T20:44:04.442907Z",
     "iopub.status.busy": "2023-08-08T20:44:04.442457Z",
     "iopub.status.idle": "2023-08-08T20:44:04.460124Z",
     "shell.execute_reply": "2023-08-08T20:44:04.458970Z"
    },
    "papermill": {
     "duration": 0.059229,
     "end_time": "2023-08-08T20:44:04.462884",
     "exception": false,
     "start_time": "2023-08-08T20:44:04.403655",
     "status": "completed"
    },
    "tags": []
   },
   "outputs": [
    {
     "data": {
      "text/plain": [
       "POSITIVE    39859\n",
       "NEGATIVE    15456\n",
       "dtype: int64"
      ]
     },
     "execution_count": 53,
     "metadata": {},
     "output_type": "execute_result"
    }
   ],
   "source": [
    "new_reviews_pred=pd.Series(new_reviews_pred)\n",
    "new_reviews_pred.value_counts()"
   ]
  },
  {
   "cell_type": "code",
   "execution_count": 54,
   "id": "875c32ce",
   "metadata": {
    "execution": {
     "iopub.execute_input": "2023-08-08T20:44:04.541690Z",
     "iopub.status.busy": "2023-08-08T20:44:04.541267Z",
     "iopub.status.idle": "2023-08-08T20:44:04.634469Z",
     "shell.execute_reply": "2023-08-08T20:44:04.632913Z"
    },
    "papermill": {
     "duration": 0.136264,
     "end_time": "2023-08-08T20:44:04.637448",
     "exception": false,
     "start_time": "2023-08-08T20:44:04.501184",
     "status": "completed"
    },
    "tags": []
   },
   "outputs": [
    {
     "data": {
      "text/html": [
       "<div>\n",
       "<style scoped>\n",
       "    .dataframe tbody tr th:only-of-type {\n",
       "        vertical-align: middle;\n",
       "    }\n",
       "\n",
       "    .dataframe tbody tr th {\n",
       "        vertical-align: top;\n",
       "    }\n",
       "\n",
       "    .dataframe thead th {\n",
       "        text-align: right;\n",
       "    }\n",
       "</style>\n",
       "<table border=\"1\" class=\"dataframe\">\n",
       "  <thead>\n",
       "    <tr style=\"text-align: right;\">\n",
       "      <th></th>\n",
       "      <th>id</th>\n",
       "      <th>sentiment</th>\n",
       "    </tr>\n",
       "  </thead>\n",
       "  <tbody>\n",
       "    <tr>\n",
       "      <th>0</th>\n",
       "      <td>0</td>\n",
       "      <td>POSITIVE</td>\n",
       "    </tr>\n",
       "    <tr>\n",
       "      <th>1</th>\n",
       "      <td>1</td>\n",
       "      <td>POSITIVE</td>\n",
       "    </tr>\n",
       "    <tr>\n",
       "      <th>2</th>\n",
       "      <td>2</td>\n",
       "      <td>POSITIVE</td>\n",
       "    </tr>\n",
       "    <tr>\n",
       "      <th>3</th>\n",
       "      <td>3</td>\n",
       "      <td>POSITIVE</td>\n",
       "    </tr>\n",
       "    <tr>\n",
       "      <th>4</th>\n",
       "      <td>4</td>\n",
       "      <td>POSITIVE</td>\n",
       "    </tr>\n",
       "    <tr>\n",
       "      <th>...</th>\n",
       "      <td>...</td>\n",
       "      <td>...</td>\n",
       "    </tr>\n",
       "    <tr>\n",
       "      <th>55310</th>\n",
       "      <td>55310</td>\n",
       "      <td>POSITIVE</td>\n",
       "    </tr>\n",
       "    <tr>\n",
       "      <th>55311</th>\n",
       "      <td>55311</td>\n",
       "      <td>NEGATIVE</td>\n",
       "    </tr>\n",
       "    <tr>\n",
       "      <th>55312</th>\n",
       "      <td>55312</td>\n",
       "      <td>NEGATIVE</td>\n",
       "    </tr>\n",
       "    <tr>\n",
       "      <th>55313</th>\n",
       "      <td>55313</td>\n",
       "      <td>POSITIVE</td>\n",
       "    </tr>\n",
       "    <tr>\n",
       "      <th>55314</th>\n",
       "      <td>55314</td>\n",
       "      <td>NEGATIVE</td>\n",
       "    </tr>\n",
       "  </tbody>\n",
       "</table>\n",
       "<p>55315 rows × 2 columns</p>\n",
       "</div>"
      ],
      "text/plain": [
       "          id sentiment\n",
       "0          0  POSITIVE\n",
       "1          1  POSITIVE\n",
       "2          2  POSITIVE\n",
       "3          3  POSITIVE\n",
       "4          4  POSITIVE\n",
       "...      ...       ...\n",
       "55310  55310  POSITIVE\n",
       "55311  55311  NEGATIVE\n",
       "55312  55312  NEGATIVE\n",
       "55313  55313  POSITIVE\n",
       "55314  55314  NEGATIVE\n",
       "\n",
       "[55315 rows x 2 columns]"
      ]
     },
     "execution_count": 54,
     "metadata": {},
     "output_type": "execute_result"
    }
   ],
   "source": [
    "#Creating Dataframe of predicted output as required for submission\n",
    "submission=pd.DataFrame(columns=['id','sentiment'])\n",
    "submission['id']=[i for i in range(len(new_reviews_pred))]\n",
    "submission['sentiment']=new_reviews_pred\n",
    "submission\n"
   ]
  },
  {
   "cell_type": "code",
   "execution_count": 55,
   "id": "70628f0d",
   "metadata": {
    "execution": {
     "iopub.execute_input": "2023-08-08T20:44:04.714617Z",
     "iopub.status.busy": "2023-08-08T20:44:04.714231Z",
     "iopub.status.idle": "2023-08-08T20:44:04.883769Z",
     "shell.execute_reply": "2023-08-08T20:44:04.882447Z"
    },
    "papermill": {
     "duration": 0.211993,
     "end_time": "2023-08-08T20:44:04.886815",
     "exception": false,
     "start_time": "2023-08-08T20:44:04.674822",
     "status": "completed"
    },
    "tags": []
   },
   "outputs": [],
   "source": [
    "#Converting the dataframe to CSV file for submission\n",
    "submission.to_csv(\"submission.csv\",index=False)"
   ]
  }
 ],
 "metadata": {
  "kernelspec": {
   "display_name": "Python 3",
   "language": "python",
   "name": "python3"
  },
  "language_info": {
   "codemirror_mode": {
    "name": "ipython",
    "version": 3
   },
   "file_extension": ".py",
   "mimetype": "text/x-python",
   "name": "python",
   "nbconvert_exporter": "python",
   "pygments_lexer": "ipython3",
   "version": "3.10.10"
  },
  "papermill": {
   "default_parameters": {},
   "duration": 1251.794619,
   "end_time": "2023-08-08T20:44:06.154986",
   "environment_variables": {},
   "exception": null,
   "input_path": "__notebook__.ipynb",
   "output_path": "__notebook__.ipynb",
   "parameters": {},
   "start_time": "2023-08-08T20:23:14.360367",
   "version": "2.4.0"
  }
 },
 "nbformat": 4,
 "nbformat_minor": 5
}
